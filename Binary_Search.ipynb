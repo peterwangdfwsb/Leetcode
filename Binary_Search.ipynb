{
  "nbformat": 4,
  "nbformat_minor": 0,
  "metadata": {
    "colab": {
      "name": "Binary_Search.ipynb",
      "provenance": []
    },
    "kernelspec": {
      "name": "python3",
      "display_name": "Python 3"
    }
  },
  "cells": [
    {
      "cell_type": "markdown",
      "metadata": {
        "id": "v1y9sYaIJGyu"
      },
      "source": [
        "**Binary Search**"
      ]
    },
    {
      "cell_type": "code",
      "metadata": {
        "id": "IgwPE4BsrQ41"
      },
      "source": [
        "#Ref Model\n",
        "\n",
        "class Solution:\n",
        "    def binarySearch(self, nums, target):\n",
        "        if not nums:\n",
        "            return -1\n",
        "            \n",
        "        start, end = 0, len(nums) - 1\n",
        "        # 用 start + 1 < end 而不是 start < end 的目的是为了避免死循环\n",
        "        # 在 first position of target 的情况下不会出现死循环\n",
        "        # 但是在 last position of target 的情况下会出现死循环\n",
        "        # 样例：nums=[1，1] target = 1\n",
        "        # 为了统一模板，我们就都采用 start + 1 < end，就保证不会出现死循环\n",
        "        while start + 1 < end:\n",
        "            # python 没有 overflow 的问题，直接 // 2 就可以了\n",
        "            # java和C++ 最好写成 mid = start + (end - start) / 2\n",
        "            # 防止在 start = 2^31 - 1, end = 2^31 - 1 的情况下出现加法 overflow\n",
        "            mid = (start + end) // 2\n",
        "            \n",
        "            # > , =, < 的逻辑先分开写，然后在看看 = 的情况是否能合并到其他分支里\n",
        "            if nums[mid] < target:\n",
        "                # 写作 start = mid + 1 也是正确的\n",
        "                # 只是可以偷懒不写，因为不写也没问题，不会影响时间复杂度\n",
        "                # 不写的好处是，万一你不小心写成了 mid - 1 你就错了\n",
        "                start = mid\n",
        "            elif nums[mid] == target:\n",
        "                end = mid\n",
        "            else: \n",
        "                # 写作 end = mid - 1 也是正确的\n",
        "                # 只是可以偷懒不写，因为不写也没问题，不会影响时间复杂度\n",
        "                # 不写的好处是，万一你不小心写成了 mid + 1 你就错了\n",
        "                end = mid\n",
        "                \n",
        "        # 因为上面的循环退出条件是 start + 1 < end\n",
        "        # 因此这里循环结束的时候，start 和 end 的关系是相邻关系（1和2，3和4这种）\n",
        "        # 因此需要再单独判断 start 和 end 这两个数谁是我们要的答案\n",
        "        # 如果是找 first position of target 就先看 start，否则就先看 end\n",
        "        if nums[start] == target:\n",
        "            return start\n",
        "        if nums[end] == target:\n",
        "            return end\n",
        "        \n",
        "        return -1\n"
      ],
      "execution_count": null,
      "outputs": []
    },
    {
      "cell_type": "markdown",
      "metadata": {
        "id": "aluImVvosWwI"
      },
      "source": [
        "**First Bad Version**"
      ]
    },
    {
      "cell_type": "code",
      "metadata": {
        "id": "bByu9RrqsRrD"
      },
      "source": [
        "# The isBadVersion API is already defined for you.\n",
        "# param version, an integer\n",
        "# return an integer\n",
        "# def isBadVersion(version):\n",
        "\n",
        "class Solution:\n",
        "    def firstBadVersion(self, n):\n",
        "        \"\"\"\n",
        "        :type n: int\n",
        "        :rtype: int\n",
        "        \"\"\"\n",
        "        start, end = 1, n\n",
        "\n",
        "        while start + 1 < end:\n",
        "            mid = (start + end) // 2\n",
        "            if isBadVersion(mid):\n",
        "                end = mid\n",
        "            else:\n",
        "                start = mid\n",
        "                \n",
        "        if isBadVersion(start):\n",
        "            return start\n",
        "        \n",
        "        return end"
      ],
      "execution_count": null,
      "outputs": []
    },
    {
      "cell_type": "markdown",
      "metadata": {
        "id": "QI_y8P5GtZf_"
      },
      "source": [
        "**Search in a Sorted Array of Unknown Size**"
      ]
    },
    {
      "cell_type": "code",
      "metadata": {
        "id": "A53x4BR-tYY-"
      },
      "source": [
        "# \"\"\"\n",
        "# This is ArrayReader's API interface.\n",
        "# You should not implement it, or speculate about its implementation\n",
        "# \"\"\"\n",
        "#class ArrayReader:\n",
        "#    def get(self, index: int) -> int:\n",
        "\n",
        "class Solution:\n",
        "    def search(self, reader, target):\n",
        "        \"\"\"\n",
        "        :type reader: ArrayReader\n",
        "        :type target: int\n",
        "        :rtype: int\n",
        "        \"\"\"\n",
        "        start, end = 0, 1\n",
        "        \n",
        "        while reader.get(end) < target:\n",
        "            end <<= 1\n",
        "        \n",
        "        while (start < end):\n",
        "            mid = (start + end) >> 1\n",
        "            if reader.get(mid) >= target:\n",
        "                end = mid\n",
        "            else:\n",
        "                start = mid + 1\n",
        "        \n",
        "        if reader.get(start) == target:\n",
        "            return start\n",
        "        else:\n",
        "            return -1"
      ],
      "execution_count": null,
      "outputs": []
    },
    {
      "cell_type": "markdown",
      "metadata": {
        "id": "mfMRjXGJuA5l"
      },
      "source": [
        "**Find Minimum in Rotated Sorted Array**"
      ]
    },
    {
      "cell_type": "code",
      "metadata": {
        "id": "To1P6-fat9At"
      },
      "source": [
        "class Solution:\n",
        "    \"\"\"\n",
        "    param nums: a rotated sorted array\n",
        "    return: the minimum number in the array\n",
        "    \"\"\"\n",
        "    def findMin(self, nums):\n",
        "        start, end = 0, len(nums)-1\n",
        "        # 二分法\n",
        "        while(start < end):\n",
        "            if nums[start] < nums[end]:\n",
        "                return nums[start]\n",
        "                \n",
        "            mid = start + (end - start)//2\n",
        "            # 最小值在[left, mid]\n",
        "            if nums[start] > nums[mid]:\n",
        "                end = mid\n",
        "            # 最小值在(mid, right]\n",
        "            else:\n",
        "                start = mid + 1\n",
        "    \n",
        "        return nums[start]"
      ],
      "execution_count": null,
      "outputs": []
    },
    {
      "cell_type": "markdown",
      "metadata": {
        "id": "O_icJoKwwyks"
      },
      "source": [
        "**Find Peak Element**"
      ]
    },
    {
      "cell_type": "code",
      "metadata": {
        "id": "JX2oviS-wt_Z"
      },
      "source": [
        "class Solution:\n",
        "    def findPeakElement(self, nums: List[int]) -> int:\n",
        "        if len(nums)==1:\n",
        "            return 0\n",
        "\n",
        "        start, end = 0, len(nums) - 1\n",
        "        n = len(nums)-1\n",
        "\n",
        "        while start <= end:\n",
        "            mid = start + (end - start) // 2\n",
        "            if mid > 0 and mid < n:\n",
        "                if nums[mid] > nums[mid-1] and nums[mid] > nums[mid+1]:\n",
        "                    return mid\n",
        "                elif nums[mid-1] > nums[mid]:\n",
        "                    end = mid-1\n",
        "                elif nums[mid+1] > nums[mid]:\n",
        "                    start = mid + 1\n",
        "            elif mid == 0:\n",
        "                if nums[mid] > nums[mid+1]:\n",
        "                    return 0\n",
        "                else:\n",
        "                    return 1\n",
        "            elif mid == n:\n",
        "                if nums[mid] > nums[mid-1]:\n",
        "                    return n\n",
        "                else:\n",
        "                    return n - 1"
      ],
      "execution_count": null,
      "outputs": []
    },
    {
      "cell_type": "markdown",
      "metadata": {
        "id": "8JdONwhAvJ3S"
      },
      "source": [
        "**Search in Rotated Sorted Array**"
      ]
    },
    {
      "cell_type": "code",
      "metadata": {
        "id": "QOP8f8KuvIlH"
      },
      "source": [
        "class Solution:\n",
        "    \"\"\"\n",
        "    @param A: an integer rotated sorted array\n",
        "    @param target: an integer to be searched\n",
        "    @return: an integer\n",
        "    \"\"\"\n",
        "    def search(self, nums, target):\n",
        "        if not nums:\n",
        "            return -1\n",
        "            \n",
        "        index = self.find_min_index(nums)\n",
        "\n",
        "        if nums[index] <= target <= nums[-1]:\n",
        "            return self.binary_search(nums, index, len(nums) - 1, target)\n",
        "\n",
        "        return self.binary_search(nums, 0, index - 1, target)\n",
        "        \n",
        "    def find_min_index(self, nums):\n",
        "        start, end = 0, len(nums) - 1\n",
        "\n",
        "        while start + 1 < end:\n",
        "            mid = (start + end) // 2\n",
        "            if nums[mid] < nums[end]:\n",
        "                end = mid\n",
        "            else:\n",
        "                start = mid\n",
        "        \n",
        "        if nums[start] < nums[end]:\n",
        "            return start\n",
        "\n",
        "        return end\n",
        "\n",
        "    def binary_search(self, nums, start, end, target):\n",
        "        while start + 1 < end:\n",
        "            mid = (start + end) // 2\n",
        "            if nums[mid] < target:\n",
        "                start = mid\n",
        "            else:\n",
        "                end = mid\n",
        "        if nums[start] == target:\n",
        "            return start\n",
        "        if nums[end] == target:\n",
        "            return end\n",
        "            \n",
        "        return -1"
      ],
      "execution_count": null,
      "outputs": []
    },
    {
      "cell_type": "markdown",
      "metadata": {
        "id": "W8RBKgsCxTo_"
      },
      "source": [
        "**Sqrt(x)**"
      ]
    },
    {
      "cell_type": "code",
      "metadata": {
        "id": "zh3SqvklxQd4"
      },
      "source": [
        "class Solution:\n",
        "    def mySqrt(self, x: int) -> int:\n",
        "        start, end = 0, x\n",
        "        \n",
        "        while start + 1 < end:\n",
        "            root = (start + end) // 2\n",
        "            if root > x // root:\n",
        "                end = root\n",
        "            else:\n",
        "                start = root\n",
        "        \n",
        "        if end * end <= x:\n",
        "            return end\n",
        "            \n",
        "        return start"
      ],
      "execution_count": null,
      "outputs": []
    }
  ]
}