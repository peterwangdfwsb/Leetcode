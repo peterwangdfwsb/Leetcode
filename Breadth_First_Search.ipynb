{
  "nbformat": 4,
  "nbformat_minor": 0,
  "metadata": {
    "colab": {
      "name": "BFS.ipynb",
      "provenance": []
    },
    "kernelspec": {
      "name": "python3",
      "display_name": "Python 3"
    }
  },
  "cells": [
    {
      "cell_type": "markdown",
      "metadata": {
        "id": "yw3zA2sfsplZ"
      },
      "source": [
        "**Breadth First Search**"
      ]
    },
    {
      "cell_type": "markdown",
      "metadata": {
        "id": "hvv1lNEJeiRV"
      },
      "source": [
        "**Serialize and Deserialize Binary Tree**"
      ]
    },
    {
      "cell_type": "code",
      "metadata": {
        "id": "i-eyQEp5edzF"
      },
      "source": [
        "# Definition for a binary tree node.\n",
        "# class TreeNode(object):\n",
        "#     def __init__(self, x):\n",
        "#         self.val = x\n",
        "#         self.left = None\n",
        "#         self.right = None\n",
        "\n",
        "class Codec:\n",
        "    def serialize(self, root):\n",
        "        if root is None:\n",
        "            return ''\n",
        "        \n",
        "        queue = collections.deque()\n",
        "        queue.append(root)\n",
        "        res = ''\n",
        "        \n",
        "        while queue:\n",
        "            node = queue.popleft()\n",
        "            if node is None:\n",
        "                res += 'None,'\n",
        "                continue\n",
        "            res += str(node.val) + ','\n",
        "            queue.append(node.left)\n",
        "            queue.append(node.right)\n",
        "            \n",
        "        return res\n",
        "            \n",
        "    def deserialize(self, data):\n",
        "        if not data:\n",
        "            return None\n",
        "        \n",
        "        ls = data.split(',')\n",
        "        root = TreeNode(int(ls[0]))\n",
        "        queue = collections.deque()\n",
        "        queue.append(root)\n",
        "        \n",
        "        i = 1\n",
        "        while queue and i < len(ls):\n",
        "            node = queue.popleft()\n",
        "            if ls[i] != 'None':\n",
        "                left = TreeNode(int(ls[i]))\n",
        "                node.left = left\n",
        "                queue.append(left)\n",
        "            i += 1\n",
        "            if ls[i] != 'None':\n",
        "                right = TreeNode(int(ls[i]))\n",
        "                node.right = right\n",
        "                queue.append(right)\n",
        "            i += 1\n",
        "            \n",
        "        return root\n",
        "        \n",
        "\n",
        "# Your Codec object will be instantiated and called as such:\n",
        "# ser = Codec()\n",
        "# deser = Codec()\n",
        "# ans = deser.deserialize(ser.serialize(root))"
      ],
      "execution_count": null,
      "outputs": []
    },
    {
      "cell_type": "markdown",
      "metadata": {
        "id": "hjnLof2dgDlT"
      },
      "source": [
        "**Binary Tree Level Order Traversal**"
      ]
    },
    {
      "cell_type": "code",
      "metadata": {
        "id": "nbdD2nFnf_OR"
      },
      "source": [
        "# Definition for a binary tree node.\n",
        "# class TreeNode:\n",
        "#     def __init__(self, val=0, left=None, right=None):\n",
        "#         self.val = val\n",
        "#         self.left = left\n",
        "#         self.right = right\n",
        "\n",
        "class Solution:\n",
        "    def levelOrder(self, root: TreeNode) -> List[List[int]]:\n",
        "        if root is None:\n",
        "            return []\n",
        "        \n",
        "        queue = collections.deque()\n",
        "        queue.append(root)\n",
        "        result = []\n",
        "        \n",
        "        while queue:\n",
        "            level = []\n",
        "            for _ in range(len(queue)):\n",
        "                node = queue.popleft()\n",
        "                level.append(node.val)\n",
        "                if node.left:\n",
        "                    queue.append(node.left)\n",
        "                if node.right:\n",
        "                    queue.append(node.right)\n",
        "            result.append(level)\n",
        "        \n",
        "        return result"
      ],
      "execution_count": null,
      "outputs": []
    },
    {
      "cell_type": "markdown",
      "metadata": {
        "id": "7eCl7owKhmOj"
      },
      "source": [
        "**Binary Tree Level Order Traversal II**"
      ]
    },
    {
      "cell_type": "code",
      "metadata": {
        "id": "qRiP49Dghcmz"
      },
      "source": [
        "# Definition for a binary tree node.\n",
        "# class TreeNode:\n",
        "#     def __init__(self, val=0, left=None, right=None):\n",
        "#         self.val = val\n",
        "#         self.left = left\n",
        "#         self.right = right\n",
        "class Solution:\n",
        "    def levelOrderBottom(self, root: TreeNode) -> List[List[int]]:\n",
        "        result = []\n",
        "        queue = collections.deque()\n",
        "        queue.append(root)\n",
        "        \n",
        "        while root and queue:\n",
        "            curr_level = queue\n",
        "            queue = collections.deque()\n",
        "            result.append([])\n",
        "            \n",
        "            for node in curr_level:\n",
        "                # append the current node value\n",
        "                result[-1].append(node.val)\n",
        "                # process child nodes for the next level\n",
        "                if node.left:\n",
        "                    queue.append(node.left)\n",
        "                if node.right:\n",
        "                    queue.append(node.right)\n",
        "                    \n",
        "        return result[::-1]"
      ],
      "execution_count": null,
      "outputs": []
    },
    {
      "cell_type": "markdown",
      "metadata": {
        "id": "4vMl0UOHjoWO"
      },
      "source": [
        "**Clone Graph**"
      ]
    },
    {
      "cell_type": "code",
      "metadata": {
        "id": "YEFqMxUNjj9l"
      },
      "source": [
        "\"\"\"\n",
        "# Definition for a Node.\n",
        "class Node(object):\n",
        "    def __init__(self, val, neighbors):\n",
        "        self.val = val\n",
        "        self.neighbors = neighbors\n",
        "\"\"\"\n",
        "class Solution(object):\n",
        "\n",
        "    def cloneGraph(self, node):\n",
        "        \"\"\"\n",
        "        :type node: Node\n",
        "        :rtype: Node\n",
        "        \"\"\"\n",
        "\n",
        "        if node is None:\n",
        "            return node\n",
        "\n",
        "        # Dictionary to save the visited node and it's respective clone\n",
        "        # as key and value respectively. This helps to avoid cycles.\n",
        "        visited = {}\n",
        "\n",
        "        # Put the first node in the queue\n",
        "        queue = collections.deque()\n",
        "        queue.append(node)\n",
        "        # Clone the node and put it in the visited dictionary.\n",
        "        visited[node] = Node(node.val, [])\n",
        "\n",
        "        # Start BFS traversal\n",
        "        while queue:\n",
        "            # Pop a node say \"n\" from the from the front of the queue.\n",
        "            n = queue.popleft()\n",
        "            # Iterate through all the neighbors of the node\n",
        "            for neighbor in n.neighbors:\n",
        "                if neighbor not in visited:\n",
        "                    # Clone the neighbor and put in the visited, if not \n",
        "                    # present already\n",
        "                    visited[neighbor] = Node(neighbor.val, [])\n",
        "                    # Add the newly encountered node to the queue.\n",
        "                    queue.append(neighbor)\n",
        "                # Add the clone of the neighbor to the neighbors of \n",
        "                # the clone node \"n\".\n",
        "                visited[n].neighbors.append(visited[neighbor])\n",
        "\n",
        "        # Return the clone of the node from visited.\n",
        "        return visited[node]"
      ],
      "execution_count": null,
      "outputs": []
    },
    {
      "cell_type": "markdown",
      "metadata": {
        "id": "2f3HMzyOkJFs"
      },
      "source": [
        "**Topological Sorting**"
      ]
    },
    {
      "cell_type": "code",
      "metadata": {
        "id": "zbg2UCb5j2cz"
      },
      "source": [
        "class Solution:\n",
        "    def topSort(self, graph):\n",
        "        node_to_indegree = self.get_indegree(graph)\n",
        "\n",
        "        # bfs\n",
        "        order = []\n",
        "        start_nodes = [n for n in graph if node_to_indegree[n] == 0]\n",
        "        queue = collections.deque()\n",
        "        queue.append(start_nodes)\n",
        "\n",
        "        while queue:\n",
        "            node = queue.popleft()\n",
        "            order.append(node)\n",
        "            for neighbor in node.neighbors:\n",
        "                node_to_indegree[neighbor] -= 1\n",
        "                if node_to_indegree[neighbor] == 0:\n",
        "                    queue.append(neighbor)\n",
        "                \n",
        "        return order\n",
        "    \n",
        "    def get_indegree(self, graph):\n",
        "        node_to_indegree = {x: 0 for x in graph}\n",
        "\n",
        "        for node in graph:\n",
        "            for neighbor in node.neighbors:\n",
        "                node_to_indegree[neighbor] += 1\n",
        "                \n",
        "        return node_to_indegree"
      ],
      "execution_count": null,
      "outputs": []
    },
    {
      "cell_type": "markdown",
      "metadata": {
        "id": "armZUJ3apCbZ"
      },
      "source": [
        "**Number of Islands**"
      ]
    },
    {
      "cell_type": "code",
      "metadata": {
        "id": "KAm34XWOkcVR"
      },
      "source": [
        "class Solution:\n",
        "    def numIslands(self, grid: List[List[str]]) -> int:\n",
        "        if not grid or not grid[0]:\n",
        "            return 0\n",
        "        \n",
        "        m = len(grid)\n",
        "        n = len(grid[0])\n",
        "        islands = 0\n",
        "        \n",
        "        for row in range(m):\n",
        "            for col in range(n):\n",
        "                if grid[row][col] == '1':\n",
        "                    self.bfs(grid, row, col)\n",
        "                    islands += 1\n",
        "        \n",
        "        return islands                    \n",
        "    \n",
        "    def bfs(self, grid, row, col):\n",
        "        queue = collections.deque([(row, col)])\n",
        "        grid[row][col] = '0'\n",
        "        \n",
        "        while queue:\n",
        "            row, col = queue.popleft()\n",
        "            for delta_row, delta_col in [(0, 1), (-1, 0), (0, -1), (1, 0)]:\n",
        "                next_row = row + delta_row\n",
        "                next_col = col + delta_col\n",
        "                if not self.is_valid(grid, next_row, next_col):\n",
        "                    continue\n",
        "                queue.append((next_row, next_col))\n",
        "                grid[next_row][next_col] = '0'\n",
        "        \n",
        "    def is_valid(self, grid, row, col):\n",
        "        m = len(grid)\n",
        "        n = len(grid[0])\n",
        "        return 0 <= row < m and 0 <= col < n and grid[row][col] == '1'"
      ],
      "execution_count": null,
      "outputs": []
    },
    {
      "cell_type": "markdown",
      "metadata": {
        "id": "jb4T0rpYrSal"
      },
      "source": [
        "**Zombie in Matrix**"
      ]
    },
    {
      "cell_type": "code",
      "metadata": {
        "id": "pvjqQ409pQrs"
      },
      "source": [
        "class Solution:\n",
        "    def zombie(self, grid):\n",
        "        # write your code here\n",
        "        if not grid or not grid[0]:\n",
        "            return -1\n",
        "\n",
        "        m = len(grid)\n",
        "        n = len(grid[0])\n",
        "        queue = collections.deque([])\n",
        "        \n",
        "        for row in range(m):\n",
        "            for col in range(n):\n",
        "                if grid[row][col]==1:\n",
        "                    queue.append((row, col))\n",
        "\n",
        "        day = self.bfs(grid, queue, 0)\n",
        "\n",
        "        for row in range(m):\n",
        "            for col in range(n):\n",
        "                if grid[row][col]==0:\n",
        "                    return -1\n",
        "        return day\n",
        "        \n",
        "    def bfs(self, matrix, queue, day):\n",
        "        while queue:\n",
        "            size = len(queue)\n",
        "            day +=1\n",
        "            for _ in range(size):\n",
        "                row, col = queue.popleft()\n",
        "                for (delta_row, delta_col) in \\\n",
        "                [(0, 1), (-1, 0), (0, -1), (1, 0)]:\n",
        "                    next_row = row + delta_row\n",
        "                    next_col = col + delta_col\n",
        "                    if not self.isValid(matrix, next_row, next_col):\n",
        "                        continue\n",
        "                    matrix[next_row][next_col]=1\n",
        "                    queue.append((next_row, next_col))\n",
        "        return day-1\n",
        "\n",
        "        \n",
        "    def isValid(self, matrix, x, y):\n",
        "        m = len(matrix)\n",
        "        n = len(matrix[0])\n",
        "        return 0 <= x < m and 0 <= y < n and matrix[x][y] == 0"
      ],
      "execution_count": null,
      "outputs": []
    },
    {
      "cell_type": "markdown",
      "metadata": {
        "id": "Zxs-_7Y4sVIY"
      },
      "source": [
        "**Word Break**"
      ]
    },
    {
      "cell_type": "code",
      "metadata": {
        "id": "6N8a71tOsQCH"
      },
      "source": [
        "class Solution:\n",
        "    def wordBreak(self, s: str, wordDict: List[str]) -> bool:\n",
        "        if s is None or wordDict is None:\n",
        "            return False\n",
        "        \n",
        "        queue = collections.deque()\n",
        "        queue.append(0)\n",
        "        visited = [None]*len(s)\n",
        "        \n",
        "        while queue:\n",
        "            start = queue.popleft()\n",
        "            if not visited[start]:\n",
        "                for end in range(start + 1, len(s) + 1):                 \n",
        "                    if s[start:end] in wordDict:                    \n",
        "                        if end == len(s):\n",
        "                            return True  \n",
        "                        queue.append(end)\n",
        "                        \n",
        "                visited[start]=True"
      ],
      "execution_count": null,
      "outputs": []
    }
  ]
}