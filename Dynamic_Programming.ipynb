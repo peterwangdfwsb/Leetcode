{
  "nbformat": 4,
  "nbformat_minor": 0,
  "metadata": {
    "colab": {
      "name": "Dynamic Programming.ipynb",
      "provenance": []
    },
    "kernelspec": {
      "name": "python3",
      "display_name": "Python 3"
    }
  },
  "cells": [
    {
      "cell_type": "markdown",
      "metadata": {
        "id": "RBBM3HjbRKKB"
      },
      "source": [
        "**Dynamic Programming**"
      ]
    },
    {
      "cell_type": "markdown",
      "metadata": {
        "id": "Ych1_eU3Sy4w"
      },
      "source": [
        "**Climbing Stairs**"
      ]
    },
    {
      "cell_type": "code",
      "metadata": {
        "id": "6AdSp6K3SvMs"
      },
      "source": [
        "class Solution:\n",
        "    def climbStairs(self, n: int) -> int:\n",
        "        if n == 1:\n",
        "            return 1\n",
        "        \n",
        "        if n == 2:\n",
        "            return 2\n",
        "        \n",
        "        dp = [0]*n\n",
        "        \n",
        "        dp[0] = 1\n",
        "        dp[1] = 2\n",
        "        \n",
        "        for col in range(2, n):\n",
        "            dp[col] = dp[col-1] + dp[col-2]\n",
        "        \n",
        "        return dp[n-1]"
      ],
      "execution_count": null,
      "outputs": []
    },
    {
      "cell_type": "markdown",
      "metadata": {
        "id": "XdK3fABPRj7f"
      },
      "source": [
        "**Unique Paths**"
      ]
    },
    {
      "cell_type": "code",
      "metadata": {
        "id": "ij3hGXiYROuv"
      },
      "source": [
        "class Solution:\n",
        "    def uniquePaths(self, m: int, n: int) -> int:\n",
        "        \n",
        "        dp = [[1]*n for _ in range(m)]\n",
        "        \n",
        "        for row in range(1,m):\n",
        "            for col in range(1,n):\n",
        "                dp[row][col] = dp[row-1][col] + dp[row][col-1]\n",
        "                \n",
        "        return dp[m-1][n-1]"
      ],
      "execution_count": null,
      "outputs": []
    },
    {
      "cell_type": "markdown",
      "metadata": {
        "id": "Po5wkBocRoJm"
      },
      "source": [
        "**Unique Paths II**"
      ]
    },
    {
      "cell_type": "code",
      "metadata": {
        "id": "KSr7s5-iRoes"
      },
      "source": [
        "class Solution(object):\n",
        "    def uniquePathsWithObstacles(self, obstacleGrid):\n",
        "        \"\"\"\n",
        "        :type obstacleGrid: List[List[int]]\n",
        "        :rtype: int\n",
        "        \"\"\"\n",
        "\n",
        "        m = len(obstacleGrid)\n",
        "        n = len(obstacleGrid[0])\n",
        "\n",
        "        # If the starting cell has an obstacle, then simply return \n",
        "        # as there would be\n",
        "        # no paths to the destination.\n",
        "        if obstacleGrid[0][0] == 1:\n",
        "            return 0\n",
        "\n",
        "        # Number of ways of reaching the starting cell = 1.\n",
        "        obstacleGrid[0][0] = 1\n",
        "\n",
        "        # Filling the values for the first column\n",
        "        for row in range(1,m):\n",
        "            obstacleGrid[row][0] = int(obstacleGrid[row][0] == 0 \\\n",
        "                                       and obstacleGrid[row-1][0] == 1)\n",
        "                \n",
        "        # Filling the values for the first row        \n",
        "        for col in range(1, n):\n",
        "            obstacleGrid[0][col] = int(obstacleGrid[0][col] == 0 \\\n",
        "                                       and obstacleGrid[0][col-1] == 1)\n",
        "\n",
        "        # Starting from cell(1,1) fill up the values\n",
        "        # No. of ways of reaching cell[i][j] = cell[i - 1][j] + cell[i][j - 1]\n",
        "        # i.e. From above and left.\n",
        "        for row in range(1,m):\n",
        "            for col in range(1,n):\n",
        "                if obstacleGrid[row][col] == 0:\n",
        "                    obstacleGrid[row][col] = obstacleGrid[row-1][col] \\\n",
        "                    + obstacleGrid[row][col-1]\n",
        "                else:\n",
        "                    obstacleGrid[row][col] = 0\n",
        "\n",
        "        # Return value stored in rightmost bottommost cell. \n",
        "        # That is the destination.            \n",
        "        return obstacleGrid[m-1][n-1]"
      ],
      "execution_count": null,
      "outputs": []
    },
    {
      "cell_type": "markdown",
      "metadata": {
        "id": "IBcoCJFaSQT2"
      },
      "source": [
        "**Minimum Path Sum**"
      ]
    },
    {
      "cell_type": "code",
      "metadata": {
        "id": "vwKhjOwUSOVu"
      },
      "source": [
        "class Solution:\n",
        "    def minPathSum(self, grid: List[List[int]]) -> int: \n",
        "        m = len(grid)\n",
        "        n = len(grid[0])\n",
        "        \n",
        "        dp = [[0] * n for _ in range(m)]\n",
        "        dp[0][0] = grid[0][0]\n",
        "        \n",
        "        for row in range(1, m):\n",
        "            dp[row][0] = grid[row][0] + dp[row-1][0]\n",
        "            \n",
        "        for col in range(1, n):\n",
        "            dp[0][col] = grid[0][col] + dp[0][col-1]\n",
        "            \n",
        "        for row in range(1, m):\n",
        "            for col in range(1, n):\n",
        "                dp[row][col] = grid[row][col] + min(dp[row-1][col]\\\n",
        "                                                    , dp[row][col-1])\n",
        "                \n",
        "        return dp[m-1][n-1]\n",
        "        "
      ],
      "execution_count": null,
      "outputs": []
    },
    {
      "cell_type": "markdown",
      "metadata": {
        "id": "nESmJBaPS2bU"
      },
      "source": [
        "**Coin Change**"
      ]
    },
    {
      "cell_type": "code",
      "metadata": {
        "id": "COhGebMBS2pf"
      },
      "source": [
        "class Solution:\n",
        "    def coinChange(self, coins: List[int], amount: int) -> int:\n",
        "        dp = [float('inf')] * (amount + 1)\n",
        "        dp[0] = 0\n",
        "        \n",
        "        for coin in coins:\n",
        "            for col in range(coin, amount + 1):\n",
        "                dp[col] = min(dp[col], dp[col - coin] + 1)\n",
        "        \n",
        "        if dp[amount] != float('inf'):\n",
        "            return dp[amount]\n",
        "        else:\n",
        "            return -1"
      ],
      "execution_count": null,
      "outputs": []
    },
    {
      "cell_type": "markdown",
      "metadata": {
        "id": "loYSYzNbCR3l"
      },
      "source": [
        "**Triangle**"
      ]
    },
    {
      "cell_type": "code",
      "metadata": {
        "id": "3RbPSk7LCQ8_"
      },
      "source": [
        "class Solution(object):\n",
        "    def minimumTotal(self, triangle):\n",
        "        \"\"\"\n",
        "        :type triangle: List[List[int]]\n",
        "        :rtype: int\n",
        "        \"\"\"\n",
        "        if not triangle:\n",
        "            return\n",
        "        \n",
        "        # DP in place bottom-up solution\n",
        "        # start with second last row and use last row to form dp table\n",
        "        for row in range(len(triangle)-2, -1, -1):\n",
        "            for col in range(len(triangle[row])):\n",
        "                # find minimum adjacent element from next row \n",
        "                # and sum it with current element\n",
        "                triangle[row][col] += min(triangle[row+1][col]\\\n",
        "                                          , triangle[row+1][col+1])\n",
        "                \n",
        "        return triangle[0][0]"
      ],
      "execution_count": null,
      "outputs": []
    },
    {
      "cell_type": "markdown",
      "metadata": {
        "id": "wwusS-_yDPcF"
      },
      "source": [
        "**Perfect Squares**"
      ]
    },
    {
      "cell_type": "code",
      "metadata": {
        "id": "WzxeCCToC0mR"
      },
      "source": [
        "class Solution(object):\n",
        "    def numSquares(self, n):\n",
        "        \"\"\"\n",
        "        :type n: int\n",
        "        :rtype: int\n",
        "        \"\"\"\n",
        "        square_nums = [i**2 for i in range(0, int(math.sqrt(n))+1)]\n",
        "        \n",
        "        dp = [float('inf')] * (n+1)\n",
        "        # bottom case\n",
        "        dp[0] = 0\n",
        "        \n",
        "        for col in range(1, n+1):\n",
        "            for square in square_nums:\n",
        "                if col < square:\n",
        "                    break\n",
        "                dp[col] = min(dp[col], dp[col-square] + 1)\n",
        "        \n",
        "        return dp[-1]"
      ],
      "execution_count": null,
      "outputs": []
    },
    {
      "cell_type": "markdown",
      "metadata": {
        "id": "iqcwte9_E78N"
      },
      "source": [
        "**Maximal Square**"
      ]
    },
    {
      "cell_type": "code",
      "metadata": {
        "id": "Hu_pcm5cE4uu"
      },
      "source": [
        "class Solution:\n",
        "    def maximalSquare(self, matrix: List[List[str]]) -> int:\n",
        "        if len(matrix) == 0:\n",
        "            return 0\n",
        "        \n",
        "        m = len(matrix)\n",
        "        n = len(matrix[0])\n",
        "        \n",
        "        dp = [[0]*(n+1) for _ in range(m+1)]\n",
        "        \n",
        "        max_square = 0\n",
        "        for row in range(1, m+1):\n",
        "            for col in range(1, n+1):\n",
        "                if matrix[row-1][col-1] == \"1\":\n",
        "                    dp[row][col] = min(dp[row-1][col], dp[row][col-1], \\\n",
        "                                       dp[row-1][col-1]) + 1\n",
        "                                       \n",
        "                    max_square = max(max_square, dp[row][col])    \n",
        "        \n",
        "        return max_square ** 2"
      ],
      "execution_count": null,
      "outputs": []
    },
    {
      "cell_type": "markdown",
      "metadata": {
        "id": "6pewvSXLGY3j"
      },
      "source": [
        "**Paint House**"
      ]
    },
    {
      "cell_type": "code",
      "metadata": {
        "id": "Mm5PETOnGX-Z"
      },
      "source": [
        "class Solution:\n",
        "    def minCost(self, costs: List[List[int]]) -> int:    \n",
        "        for n in reversed(range(len(costs) - 1)):\n",
        "            # Total cost of painting nth house red.\n",
        "            costs[n][0] += min(costs[n + 1][1], costs[n + 1][2])\n",
        "            # Total cost of painting nth house green.\n",
        "            costs[n][1] += min(costs[n + 1][0], costs[n + 1][2])\n",
        "            # Total cost of painting nth house blue.\n",
        "            costs[n][2] += min(costs[n + 1][0], costs[n + 1][1])\n",
        "            \n",
        "        if len(costs) == 0: \n",
        "            return 0\n",
        "        \n",
        "        return min(costs[0]) # Return the minimum in the first row."
      ],
      "execution_count": null,
      "outputs": []
    },
    {
      "cell_type": "markdown",
      "metadata": {
        "id": "9HYIJ6FCG29T"
      },
      "source": [
        "**Paint House II**"
      ]
    },
    {
      "cell_type": "code",
      "metadata": {
        "id": "BsP4mHngGgeI"
      },
      "source": [
        "class Solution:\n",
        "    def minCostII(self, costs: List[List[int]]) -> int:\n",
        "        \n",
        "        n = len(costs)\n",
        "        \n",
        "        if n == 0:\n",
        "            return 0\n",
        "        \n",
        "        k = len(costs[0])\n",
        "        \n",
        "        for house in range(1, n):\n",
        "            for color in range(k):\n",
        "                best = math.inf\n",
        "                for previous_color in range(k):\n",
        "                    if color == previous_color: \n",
        "                        continue\n",
        "                    best = min(best, costs[house - 1][previous_color])\n",
        "                costs[house][color] += best\n",
        "\n",
        "        return min(costs[-1])\n",
        "   "
      ],
      "execution_count": null,
      "outputs": []
    }
  ]
}