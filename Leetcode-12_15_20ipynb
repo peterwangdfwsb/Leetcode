{
  "nbformat": 4,
  "nbformat_minor": 0,
  "metadata": {
    "colab": {
      "name": "LeetcodeNote.ipynb",
      "provenance": []
    },
    "kernelspec": {
      "name": "python3",
      "display_name": "Python 3"
    }
  },
  "cells": [
    {
      "cell_type": "markdown",
      "metadata": {
        "id": "HI6_aWb9o3ke"
      },
      "source": [
        "**Two Sum**"
      ]
    },
    {
      "cell_type": "code",
      "metadata": {
        "id": "m8LeGCZeo2uJ"
      },
      "source": [
        "class Solution:\n",
        "    def twoSum(self, nums: List[int], target: int) -> List[int]:\n",
        "        \n",
        "        index_nums={}\n",
        "        \n",
        "        for index, numbers in enumerate(nums):\n",
        "            if target-nums[index] not in index_nums:\n",
        "                index_nums[numbers]=index\n",
        "            else:\n",
        "                return [index_nums[target-nums[index]],index]\n",
        "        return []"
      ],
      "execution_count": null,
      "outputs": []
    },
    {
      "cell_type": "markdown",
      "metadata": {
        "id": "hTwBsysXohCt"
      },
      "source": [
        "**Longest Substring Without Repeating Characters**"
      ]
    },
    {
      "cell_type": "code",
      "metadata": {
        "id": "zerLvDyqob54"
      },
      "source": [
        "class Solution(object):\n",
        "    def lengthOfLongestSubstring(self, s):\n",
        "        \"\"\"\n",
        "        :type s: str\n",
        "        :rtype: int\n",
        "        \"\"\"\n",
        "        ans = 0\n",
        "        sub = ''\n",
        "        \n",
        "        for char in s:\n",
        "            if char not in sub:\n",
        "                sub += char\n",
        "                ans = max(ans, len(sub))\n",
        "            else:\n",
        "                cut = sub.index(char)\n",
        "                sub = sub[cut+1:] + char\n",
        "        \n",
        "        return ans"
      ],
      "execution_count": null,
      "outputs": []
    },
    {
      "cell_type": "markdown",
      "metadata": {
        "id": "tH9WYMpWvKBq"
      },
      "source": [
        "**3Sum**"
      ]
    },
    {
      "cell_type": "code",
      "metadata": {
        "id": "w7nFwD_lvHr-"
      },
      "source": [
        "class Solution:\n",
        "    def threeSum(self, nums: List[int]) -> List[List[int]]:\n",
        "        \n",
        "        self.res=[]\n",
        "        nums.sort()\n",
        "        \n",
        "        for i in range(len(nums)):\n",
        "            if nums[i] > 0:\n",
        "                break\n",
        "            if i == 0 or nums[i-1] != nums[i]:\n",
        "                self.twoSum(nums,i)\n",
        "                \n",
        "        return self.res\n",
        "        \n",
        "    def twoSum(self,nums,i):\n",
        "        \n",
        "        left = i+1\n",
        "        right = len(nums)-1\n",
        "        \n",
        "        while left < right:\n",
        "            total = nums[i] + nums[left] + nums[right]\n",
        "            if total < 0:\n",
        "                left += 1   \n",
        "            elif total > 0:\n",
        "                right -= 1\n",
        "            else:\n",
        "                self.res.append([nums[i],nums[left],nums[right]])\n",
        "                left += 1\n",
        "                right -= 1\n",
        "                while left < right and nums[left] == nums[left-1]:\n",
        "                    left += 1"
      ],
      "execution_count": null,
      "outputs": []
    },
    {
      "cell_type": "markdown",
      "metadata": {
        "id": "tYaPoQIrT637"
      },
      "source": [
        "**Valid Parentheses**"
      ]
    },
    {
      "cell_type": "code",
      "metadata": {
        "id": "CdlCyoHCTzmQ"
      },
      "source": [
        "class Solution:\n",
        "    def isValid(self, s: str) -> bool:\n",
        "        \n",
        "        map_char={')':'(',']':'[','}':'{'}\n",
        "        stack=[]\n",
        "        \n",
        "        for char in s:\n",
        "            if char in map_char:\n",
        "                top_element=stack.pop() if stack else '#'\n",
        "                if map_char[char] != top_element:\n",
        "                    return False\n",
        "                \n",
        "            else:\n",
        "                stack.append(char)\n",
        "                \n",
        "        return not stack"
      ],
      "execution_count": null,
      "outputs": []
    },
    {
      "cell_type": "markdown",
      "metadata": {
        "id": "2om3aAhOctXx"
      },
      "source": [
        "**Merge k Sorted Lists**"
      ]
    },
    {
      "cell_type": "code",
      "metadata": {
        "id": "iz8sZ_m0cr5X"
      },
      "source": [
        "# Definition for singly-linked list.\n",
        "# class ListNode:\n",
        "#     def __init__(self, val=0, next=None):\n",
        "#         self.val = val\n",
        "#         self.next = next\n",
        "class Solution:\n",
        "    def mergeKLists(self, lists: List[ListNode]) -> ListNode:\n",
        "        \n",
        "        amount = len(lists)\n",
        "        interval = 1\n",
        "        \n",
        "        while interval < amount:\n",
        "            for i in range(0, amount - interval, interval*2):\n",
        "                lists[i] = self.merge2lists(lists[i], lists[i + interval])\n",
        "            interval *= 2\n",
        "            \n",
        "        return lists[0] if amount > 0 else None\n",
        "    \n",
        "    def merge2lists(self, l1, l2):\n",
        "        \n",
        "        dummy = ListNode(0)\n",
        "        prehead = dummy\n",
        "        \n",
        "        while l1 and l2:\n",
        "            if l1.val < l2.val:\n",
        "                prehead.next = l1\n",
        "                l1 = l1.next\n",
        "            else:\n",
        "                prehead.next = l2\n",
        "                l2 = l2.next\n",
        "            prehead = prehead.next\n",
        "            \n",
        "        if not l1:\n",
        "            prehead.next = l2\n",
        "        else:\n",
        "            prehead.next = l1\n",
        "            \n",
        "        return dummy.next"
      ],
      "execution_count": null,
      "outputs": []
    },
    {
      "cell_type": "markdown",
      "metadata": {
        "id": "ttVfXrUXsPTQ"
      },
      "source": [
        "**Search in Rotated Sorted Array**"
      ]
    },
    {
      "cell_type": "code",
      "metadata": {
        "id": "aQtxCHSnsNbN"
      },
      "source": [
        "class Solution:\n",
        "    def search(self, nums, target):\n",
        "        \"\"\"\n",
        "        :type nums: List[int]\n",
        "        :type target: int\n",
        "        :rtype: int\n",
        "        \"\"\"\n",
        "        def find_rotate_index(left, right):\n",
        "            if nums[left] < nums[right]:\n",
        "                return 0\n",
        "\n",
        "            while left <= right:\n",
        "                pivot = (left + right) // 2\n",
        "                if nums[pivot] > nums[pivot + 1]:\n",
        "                    return pivot + 1\n",
        "                else:\n",
        "                    if nums[pivot] < nums[left]:\n",
        "                        right = pivot - 1\n",
        "                    else:\n",
        "                        left = pivot + 1\n",
        "\n",
        "        def search(left, right):\n",
        "            \"\"\"\n",
        "            Binary search\n",
        "            \"\"\"\n",
        "            while left <= right:\n",
        "                pivot = (left + right) // 2\n",
        "                if nums[pivot] == target:\n",
        "                    return pivot\n",
        "                else:\n",
        "                    if target < nums[pivot]:\n",
        "                        right = pivot - 1\n",
        "                    else:\n",
        "                        left = pivot + 1\n",
        "            return -1\n",
        "\n",
        "        n = len(nums)\n",
        "\n",
        "        if n == 1:\n",
        "            return 0 if nums[0] == target else -1\n",
        "\n",
        "        rotate_index = find_rotate_index(0, n - 1)\n",
        "\n",
        "        # if target is the smallest element\n",
        "        if nums[rotate_index] == target:\n",
        "            return rotate_index\n",
        "        # if array is not rotated, search in the entire array\n",
        "        if rotate_index == 0:\n",
        "            return search(0, n - 1)\n",
        "        if target < nums[0]:\n",
        "            # search on the right side\n",
        "            return search(rotate_index, n - 1)\n",
        "        # search on the left side\n",
        "        return search(0, rotate_index)"
      ],
      "execution_count": null,
      "outputs": []
    },
    {
      "cell_type": "markdown",
      "metadata": {
        "id": "KkmqM4mMRXBx"
      },
      "source": [
        "**Remove Nth Node From End of List**"
      ]
    },
    {
      "cell_type": "code",
      "metadata": {
        "id": "e7xvOSCpRTyI"
      },
      "source": [
        "# Definition for singly-linked list.\n",
        "# class ListNode:\n",
        "#     def __init__(self, val=0, next=None):\n",
        "#         self.val = val\n",
        "#         self.next = next\n",
        "class Solution:\n",
        "    def removeNthFromEnd(self, head: ListNode, n: int) -> ListNode:\n",
        "        dummy = ListNode(0)\n",
        "        dummy.next = head\n",
        "        first, second = dummy, dummy\n",
        "        \n",
        "        #Advances first pointer so that the gap between first and second is n nodes apart\n",
        "        for _ in range(n): \n",
        "            first = first.next\n",
        "            \n",
        "        #Move first to the end, maintaining the gap\n",
        "        while first.next!=None:\n",
        "            first, second = first.next, second.next\n",
        "            \n",
        "        second.next = second.next.next\n",
        "        return dummy.next"
      ],
      "execution_count": null,
      "outputs": []
    },
    {
      "cell_type": "markdown",
      "metadata": {
        "id": "gtx5YQbI7Tmd"
      },
      "source": [
        "**Combination Sum**"
      ]
    },
    {
      "cell_type": "code",
      "metadata": {
        "id": "-ubehXTX7V8I"
      },
      "source": [
        "class Solution:\n",
        "    def combinationSum(self, candidates: List[int], target: int) -> List[List[int]]:\n",
        "        self.candidates=candidates\n",
        "        self.result=[]\n",
        "        result=self.backtracking(target,[],0)\n",
        "        return result\n",
        "    \n",
        "    def backtracking(self,remain,comb,start):\n",
        "        if remain==0:\n",
        "            self.result.append(list(comb))\n",
        "            \n",
        "        if remain<0:\n",
        "            return\n",
        "        \n",
        "        for i in range(start,len(self.candidates)):\n",
        "            comb.append(self.candidates[i])\n",
        "            self.backtracking(remain-self.candidates[i],comb,i)\n",
        "            comb.pop()\n",
        "            \n",
        "        return self.result"
      ],
      "execution_count": null,
      "outputs": []
    },
    {
      "cell_type": "markdown",
      "metadata": {
        "id": "c274SlDYtUhO"
      },
      "source": [
        "**Rotate Image**"
      ]
    },
    {
      "cell_type": "code",
      "metadata": {
        "id": "R42B0SzAsakq"
      },
      "source": [
        "class Solution:\n",
        "    def rotate(self, matrix):\n",
        "        \"\"\"\n",
        "        :type matrix: List[List[int]]\n",
        "        :rtype: void Do not return anything, modify matrix in-place instead.\n",
        "        \"\"\"\n",
        "        \n",
        "        \n",
        "        n = len(matrix[0])\n",
        "        \n",
        "        for col in range(n // 2 + n % 2):\n",
        "            for row in range(n // 2):\n",
        "                tmp = [0] * 4\n",
        "            \n",
        "                # store 4 elements in tmp\n",
        "                for k in range(4):\n",
        "                    tmp[k] = matrix[col][row]\n",
        "                    col, row = row, n - 1 - col\n",
        "                    \n",
        "                # rotate 4 elements\n",
        "                for k in range(4):\n",
        "                    matrix[col][row] = tmp[(k - 1) % 4]\n",
        "                    col, row = row, n - 1 - col"
      ],
      "execution_count": null,
      "outputs": []
    },
    {
      "cell_type": "markdown",
      "metadata": {
        "id": "kI8xxavQuQb6"
      },
      "source": [
        "**Maximum Subarray**"
      ]
    },
    {
      "cell_type": "code",
      "metadata": {
        "id": "kpqcep12uPXs"
      },
      "source": [
        "class Solution:\n",
        "    def maxSubArray(self, nums: List[int]) -> int:\n",
        "        \n",
        "        result = self.helper(nums, 0, len(nums) - 1)\n",
        "        \n",
        "        return result\n",
        "        \n",
        "    def cross_sum(self, nums, left, right, p): \n",
        "            if left == right:\n",
        "                return nums[left]\n",
        "\n",
        "            left_subsum = float('-inf')\n",
        "            curr_sum = 0\n",
        "            for i in range(p, left - 1, -1):\n",
        "                curr_sum += nums[i]\n",
        "                left_subsum = max(left_subsum, curr_sum)\n",
        "\n",
        "            right_subsum = float('-inf')\n",
        "            curr_sum = 0\n",
        "            for i in range(p + 1, right + 1):\n",
        "                curr_sum += nums[i]\n",
        "                right_subsum = max(right_subsum, curr_sum)\n",
        "\n",
        "            return left_subsum + right_subsum   \n",
        "    \n",
        "    def helper(self, nums, left, right): \n",
        "        if left == right:\n",
        "            return nums[left]\n",
        "        \n",
        "        p = (left + right) // 2\n",
        "            \n",
        "        left_sum = self.helper(nums, left, p)\n",
        "        right_sum = self.helper(nums, p + 1, right)\n",
        "        cross_sum = self.cross_sum(nums, left, right, p)\n",
        "        \n",
        "        return max(left_sum, right_sum, cross_sum)"
      ],
      "execution_count": null,
      "outputs": []
    },
    {
      "cell_type": "markdown",
      "metadata": {
        "id": "APnX9QxJ6wcn"
      },
      "source": [
        "**Merge Intervals**"
      ]
    },
    {
      "cell_type": "code",
      "metadata": {
        "id": "8SJRZiB66ndG"
      },
      "source": [
        "class Solution:\n",
        "    def merge(self, intervals: List[List[int]]) -> List[List[int]]:\n",
        "        \n",
        "        intervals.sort(key=lambda x:x[0])\n",
        "        \n",
        "        output=[]\n",
        "        for interval in intervals:\n",
        "            if not output or output[-1][1]<interval[0]:\n",
        "                output.append(interval)\n",
        "            \n",
        "            else:\n",
        "                output[-1][1]=max(interval[1],output[-1][1])\n",
        "                \n",
        "        return output"
      ],
      "execution_count": null,
      "outputs": []
    },
    {
      "cell_type": "markdown",
      "metadata": {
        "id": "GwqOhL8561Zs"
      },
      "source": [
        "**Insert Interval**"
      ]
    },
    {
      "cell_type": "code",
      "metadata": {
        "id": "uG4d4IqK64ZS"
      },
      "source": [
        "class Solution:\n",
        "    def insert(self, intervals: List[List[int]], newInterval: List[int]) -> List[List[int]]:\n",
        "        \n",
        "        new_start,new_end=newInterval\n",
        "        idx,n=0,len(intervals)\n",
        "        output=[]\n",
        "        \n",
        "        while idx<n and intervals[idx][0]<new_start:\n",
        "            output.append(intervals[idx])\n",
        "            idx+=1\n",
        "            \n",
        "        if not output or output[-1][1]<new_start:\n",
        "            output.append(newInterval)\n",
        "        else:\n",
        "            output[-1][1]=max(output[-1][1],new_end)\n",
        "            \n",
        "        for after_newInterval in range(idx,n):\n",
        "            start,end=intervals[after_newInterval]\n",
        "            \n",
        "            if output[-1][1]<start:\n",
        "                output.append(intervals[after_newInterval])\n",
        "            else:\n",
        "                output[-1][1]=max(output[-1][1],intervals[after_newInterval][1])\n",
        "                \n",
        "        return output"
      ],
      "execution_count": null,
      "outputs": []
    },
    {
      "cell_type": "markdown",
      "metadata": {
        "id": "-ZGcAW-867qV"
      },
      "source": [
        "**Unique Paths**"
      ]
    },
    {
      "cell_type": "code",
      "metadata": {
        "id": "YyZzzw_b6_jM"
      },
      "source": [
        "class Solution:\n",
        "    def uniquePaths(self, m: int, n: int) -> int:\n",
        "        \n",
        "        matrix=[[1]*n for _ in range(m)]\n",
        "        \n",
        "        for col in range(1,m):\n",
        "            for row in range(1,n):\n",
        "                matrix[col][row]=matrix[col-1][row]+matrix[col][row-1]\n",
        "                \n",
        "        return matrix[m-1][n-1]"
      ],
      "execution_count": null,
      "outputs": []
    },
    {
      "cell_type": "markdown",
      "metadata": {
        "id": "LLsruMKk7DJh"
      },
      "source": [
        "**Set Matrix Zeros**"
      ]
    },
    {
      "cell_type": "code",
      "metadata": {
        "id": "lrxXeoC37F7R"
      },
      "source": [
        "class Solution:\n",
        "    def setZeroes(self, matrix: List[List[int]]) -> None:\n",
        "        \"\"\"\n",
        "        Do not return anything, modify matrix in-place instead.\n",
        "        \"\"\"\n",
        "        cols, rows=set(), set()\n",
        "        \n",
        "        for col in range(len(matrix)):\n",
        "            for row in range(len(matrix[0])):\n",
        "                if matrix[col][row]==0:\n",
        "                    cols.add(col)\n",
        "                    rows.add(row)\n",
        "                    \n",
        "        for col in range(len(matrix)):\n",
        "            for row in range(len(matrix[0])):\n",
        "                if col in cols or row in rows:\n",
        "                    matrix[col][row]=0"
      ],
      "execution_count": null,
      "outputs": []
    },
    {
      "cell_type": "markdown",
      "metadata": {
        "id": "7omL9zuz7I3C"
      },
      "source": [
        "**Word Search**"
      ]
    },
    {
      "cell_type": "code",
      "metadata": {
        "id": "GLqJE9m67LxE"
      },
      "source": [
        "class Solution:\n",
        "    def exist(self, board: List[List[str]], word: str) -> bool:\n",
        "        \n",
        "        for col in range(len(board)):\n",
        "            for row in range(len(board[0])):\n",
        "                if self.backtracking(col,row,board,word):\n",
        "                    return True\n",
        "                \n",
        "        return False\n",
        "    \n",
        "    def backtracking(self,col,row,board,suffix):\n",
        "        \n",
        "        if len(suffix)==0:\n",
        "            return True \n",
        "        \n",
        "        if col<0 or col==len(board) or row<0 or row==len(board[0]) or board[col][row]!=suffix[0]:\n",
        "            return False\n",
        "            \n",
        "        board[col][row]=\"#\"\n",
        "        ret=False\n",
        "            \n",
        "        for coloffset, rowoffset in [(0,1),(1,0),(0,-1),(-1,0)]:\n",
        "            ret = self.backtracking(col+coloffset,row+rowoffset,board,suffix[1:])\n",
        "            if ret:break\n",
        "            \n",
        "        board[col][row]=suffix[0]\n",
        "            \n",
        "        return ret"
      ],
      "execution_count": null,
      "outputs": []
    },
    {
      "cell_type": "markdown",
      "metadata": {
        "id": "gDxbfeT96A6U"
      },
      "source": [
        "**Decode Ways**"
      ]
    },
    {
      "cell_type": "code",
      "metadata": {
        "id": "FIWxhyRf566H"
      },
      "source": [
        "class Solution:\n",
        "    def numDecodings(self, s: str) -> int:\n",
        "        \n",
        "        if not s:\n",
        "            return 0\n",
        "        \n",
        "        self.memo={}\n",
        "        \n",
        "        result=self.helper(0,s)\n",
        "        \n",
        "        return result\n",
        "    \n",
        "    def helper(self,index,s):\n",
        "        \n",
        "        if index == len(s):\n",
        "            return 1\n",
        "        \n",
        "        if s[index] == '0':\n",
        "            return 0\n",
        "        \n",
        "        if index == len(s)-1:\n",
        "            return 1\n",
        "        \n",
        "        if index in self.memo:\n",
        "            return self.memo[index]\n",
        "        \n",
        "        if (int(s[index : index+2]) <= 26):\n",
        "            ans = self.helper(index+1,s) + self.helper(index+2,s)\n",
        "            \n",
        "        else:\n",
        "            ans = self.helper(index+1,s) + 0\n",
        "        \n",
        "        \n",
        "        self.memo[index] = ans\n",
        "        \n",
        "        return ans"
      ],
      "execution_count": null,
      "outputs": []
    },
    {
      "cell_type": "markdown",
      "metadata": {
        "id": "dCWnR0qV7Ot8"
      },
      "source": [
        "**Validate Binary Search Tree**\n"
      ]
    },
    {
      "cell_type": "code",
      "metadata": {
        "id": "64Zdm8r2aaM7"
      },
      "source": [
        "# Definition for a binary tree node.\n",
        "# class TreeNode:\n",
        "#     def __init__(self, val=0, left=None, right=None):\n",
        "#         self.val = val\n",
        "#         self.left = left\n",
        "#         self.right = right\n",
        "\n",
        "class Solution:\n",
        "    def isValidBST(self, root: TreeNode) -> bool:\n",
        "        \n",
        "        result=self.helper(root,lower = float('-inf'), upper = float('inf'))\n",
        "        \n",
        "        return result\n",
        "        \n",
        "    \n",
        "    \n",
        "    def helper(self,node,lower,upper):\n",
        "        \n",
        "        if not node:\n",
        "            return True\n",
        "        \n",
        "        if node.val <= lower or node.val >= upper:\n",
        "            return False\n",
        "        \n",
        "        if not self.helper(node.right,node.val,upper):\n",
        "            return False\n",
        "        \n",
        "        if not self.helper(node.left,lower,node.val):\n",
        "            return False\n",
        "        \n",
        "        return True"
      ],
      "execution_count": null,
      "outputs": []
    },
    {
      "cell_type": "markdown",
      "metadata": {
        "id": "WykWQilX18vO"
      },
      "source": [
        "**Same Tree**"
      ]
    },
    {
      "cell_type": "code",
      "metadata": {
        "id": "8qiTIt7N1710"
      },
      "source": [
        "# Definition for a binary tree node.\n",
        "# class TreeNode:\n",
        "#     def __init__(self, val=0, left=None, right=None):\n",
        "#         self.val = val\n",
        "#         self.left = left\n",
        "#         self.right = right\n",
        "\n",
        "class Solution:\n",
        "    def isSameTree(self, p: TreeNode, q: TreeNode) -> bool:\n",
        "        \n",
        "        result=self.helper(p,q)\n",
        "        \n",
        "        return result\n",
        "\n",
        "    def helper(self,p,q):\n",
        "        \n",
        "        if not p and not q:\n",
        "            return True\n",
        "        \n",
        "        if not q or not p:\n",
        "            return False\n",
        "        \n",
        "        if p.val != q.val:\n",
        "            return False\n",
        "        \n",
        "        if not self.helper(p.right,q.right):\n",
        "            return False\n",
        "        \n",
        "        if not self.helper(p.left,q.left):\n",
        "            return False\n",
        "        \n",
        "        return True"
      ],
      "execution_count": null,
      "outputs": []
    },
    {
      "cell_type": "markdown",
      "metadata": {
        "id": "YYNGt5H4gqu3"
      },
      "source": [
        "**Binary Tree Level Order Traversal**"
      ]
    },
    {
      "cell_type": "code",
      "metadata": {
        "id": "EdEM6WMQgpu2"
      },
      "source": [
        "# Definition for a binary tree node.\n",
        "# class TreeNode:\n",
        "#     def __init__(self, val=0, left=None, right=None):\n",
        "#         self.val = val\n",
        "#         self.left = left\n",
        "#         self.right = right\n",
        "class Solution:\n",
        "    def levelOrder(self, root: TreeNode) -> List[List[int]]:\n",
        "        self.levels = []\n",
        "        \n",
        "        if not root:\n",
        "            return self.levels\n",
        "        \n",
        "        result = self.helper(root, 0)\n",
        "        \n",
        "        return result\n",
        "        \n",
        "    def helper(self, node, level):\n",
        "        if len(self.levels) == level:\n",
        "            self.levels.append([])\n",
        "            \n",
        "        self.levels[level].append(node.val)\n",
        "        \n",
        "        if node.left:\n",
        "            self.helper(node.left, level+1)\n",
        "        if node.right:\n",
        "            self.helper(node.right, level+1)\n",
        "            \n",
        "        return self.levels"
      ],
      "execution_count": null,
      "outputs": []
    },
    {
      "cell_type": "markdown",
      "metadata": {
        "id": "uhE_mijOiC6z"
      },
      "source": [
        "**Maximum Depth of Binary Tree**"
      ]
    },
    {
      "cell_type": "code",
      "metadata": {
        "id": "9IJT5c5tiB7T"
      },
      "source": [
        "# Definition for a binary tree node.\n",
        "# class TreeNode:\n",
        "#     def __init__(self, val=0, left=None, right=None):\n",
        "#         self.val = val\n",
        "#         self.left = left\n",
        "#         self.right = right\n",
        "class Solution:\n",
        "    def maxDepth(self, root: TreeNode) -> int:\n",
        "        \n",
        "        result = self.helper(root)\n",
        "        \n",
        "        return result\n",
        "        \n",
        "    def helper(self, root):\n",
        "        if root is None:\n",
        "            return 0\n",
        "        \n",
        "        left_height = self.helper(root.left)\n",
        "        right_height = self.helper(root.right)\n",
        "        \n",
        "        currentmaxheight = max(left_height, right_height) + 1\n",
        "        \n",
        "        return currentmaxheight"
      ],
      "execution_count": null,
      "outputs": []
    },
    {
      "cell_type": "markdown",
      "metadata": {
        "id": "BcxIHMGEl-q6"
      },
      "source": [
        "**Construct Binary Tree from Preorder and Inorder Traversal**"
      ]
    },
    {
      "cell_type": "code",
      "metadata": {
        "id": "POc-J3qOiMre"
      },
      "source": [
        "# Definition for a binary tree node.\n",
        "# class TreeNode:\n",
        "#     def __init__(self, val=0, left=None, right=None):\n",
        "#         self.val = val\n",
        "#         self.left = left\n",
        "#         self.right = right\n",
        "class Solution:\n",
        "    def buildTree(self, preorder: List[int], inorder: List[int]) -> TreeNode:\n",
        "        \n",
        "        self.preorder = preorder\n",
        "        self.inorder = inorder\n",
        "        self.pre_idx = 0\n",
        "        self.idx_map = {val:idx for idx, val in enumerate(inorder)}\n",
        "        \n",
        "        result = self.helper(0, len(self.inorder))\n",
        "        \n",
        "        return result\n",
        "        \n",
        "    def helper(self, in_left, in_right):\n",
        "        if in_left == in_right:\n",
        "            return None\n",
        "            \n",
        "        root_val = self.preorder[self.pre_idx]\n",
        "        root = TreeNode(root_val)\n",
        "            \n",
        "        index = self.idx_map[root_val]\n",
        "            \n",
        "        self.pre_idx += 1\n",
        "        root.left = self.helper(in_left, index)\n",
        "        root.right = self.helper(index + 1, in_right)\n",
        "            \n",
        "        return root"
      ],
      "execution_count": null,
      "outputs": []
    },
    {
      "cell_type": "markdown",
      "metadata": {
        "id": "aGdaJT367j5G"
      },
      "source": [
        "**Binary Tree Maximum Path Sum**"
      ]
    },
    {
      "cell_type": "code",
      "metadata": {
        "id": "m2oYF6iX7i8p"
      },
      "source": [
        "# Definition for a binary tree node.\n",
        "# class TreeNode:\n",
        "#     def __init__(self, val=0, left=None, right=None):\n",
        "#         self.val = val\n",
        "#         self.left = left\n",
        "#         self.right = right\n",
        "class Solution:\n",
        "    def maxPathSum(self, root: TreeNode) -> int:\n",
        "        self.max_sum = float('-inf')\n",
        "        self.helper(root)\n",
        "        \n",
        "        return self.max_sum\n",
        "    \n",
        "    def helper(self, node):\n",
        "        if not node:\n",
        "            return 0\n",
        "        \n",
        "        leftpathsum = max(self.helper(node.left), 0)\n",
        "        rightpathsum = max(self.helper(node.right), 0)\n",
        "        \n",
        "        cur_total = node.val + leftpathsum + rightpathsum\n",
        "        \n",
        "        self.max_sum = max(self.max_sum, cur_total)\n",
        "        \n",
        "        return node.val + max(leftpathsum, rightpathsum)"
      ],
      "execution_count": null,
      "outputs": []
    },
    {
      "cell_type": "markdown",
      "metadata": {
        "id": "-TNPnfPRsmkN"
      },
      "source": [
        "**Valid Palindrome**"
      ]
    },
    {
      "cell_type": "code",
      "metadata": {
        "id": "YpSTQX7hsioO"
      },
      "source": [
        "class Solution:\n",
        "    def isPalindrome(self, s: str) -> bool:\n",
        "        \n",
        "        left, right =.  0, len(s) - 1\n",
        "        \n",
        "        while left < right:\n",
        "            while left < right and not s[left].isalnum():\n",
        "                left +=1\n",
        "            while left < right and not s[right].isalnum():\n",
        "                right -= 1\n",
        "                \n",
        "            if left < right and s[left].lower() != s[right].lower():\n",
        "                return False\n",
        "            \n",
        "            \n",
        "            left += 1\n",
        "            right -= 1\n",
        "            \n",
        "        return True"
      ],
      "execution_count": null,
      "outputs": []
    },
    {
      "cell_type": "markdown",
      "metadata": {
        "id": "GKsMoeMS7AT4"
      },
      "source": [
        "**Clone Graph**"
      ]
    },
    {
      "cell_type": "code",
      "metadata": {
        "id": "3wRlsMEo67Ic"
      },
      "source": [
        "\"\"\"\n",
        "# Definition for a Node.\n",
        "class Node(object):\n",
        "    def __init__(self, val, neighbors):\n",
        "        self.val = val\n",
        "        self.neighbors = neighbors\n",
        "\"\"\"\n",
        "from collections import deque\n",
        "class Solution(object):\n",
        "\n",
        "    def cloneGraph(self, node):\n",
        "        \"\"\"\n",
        "        :type node: Node\n",
        "        :rtype: Node\n",
        "        \"\"\"\n",
        "\n",
        "        if not node:\n",
        "            return node\n",
        "\n",
        "        # Dictionary to save the visited node and it's respective clone\n",
        "        # as key and value respectively. This helps to avoid cycles.\n",
        "        visited = {}\n",
        "\n",
        "        # Put the first node in the queue\n",
        "        queue = deque([node])\n",
        "        # Clone the node and put it in the visited dictionary.\n",
        "        visited[node] = Node(node.val, [])\n",
        "\n",
        "        # Start BFS traversal\n",
        "        while queue:\n",
        "            # Pop a node say \"n\" from the from the front of the queue.\n",
        "            n = queue.popleft()\n",
        "            # Iterate through all the neighbors of the node\n",
        "            for neighbor in n.neighbors:\n",
        "                if neighbor not in visited:\n",
        "                    # Clone the neighbor and put in the visited, if not present already\n",
        "                    visited[neighbor] = Node(neighbor.val, [])\n",
        "                    # Add the newly encountered node to the queue.\n",
        "                    queue.append(neighbor)\n",
        "                # Add the clone of the neighbor to the neighbors of the clone node \"n\".\n",
        "                visited[n].neighbors.append(visited[neighbor])\n",
        "\n",
        "        # Return the clone of the node from visited.\n",
        "        return visited[node]"
      ],
      "execution_count": null,
      "outputs": []
    },
    {
      "cell_type": "markdown",
      "metadata": {
        "id": "5VKNpLhy50dP"
      },
      "source": [
        "**Reorder List**"
      ]
    },
    {
      "cell_type": "code",
      "metadata": {
        "id": "33ti567Z5zJG"
      },
      "source": [
        "# Definition for singly-linked list.\n",
        "# class ListNode:\n",
        "#     def __init__(self, val=0, next=None):\n",
        "#         self.val = val\n",
        "#         self.next = next\n",
        "class Solution:\n",
        "    def reorderList(self, head: ListNode) -> None:\n",
        "        \"\"\"\n",
        "        Do not return anything, modify head in-place instead.\n",
        "        \"\"\"\n",
        "        if not head:\n",
        "            return\n",
        "        \n",
        "        # find the middle of linked list [Problem 876]\n",
        "        # in 1->2->3->4->5->6 find 4 \n",
        "        slow = fast = head\n",
        "        while fast and fast.next:\n",
        "            slow = slow.next\n",
        "            fast = fast.next.next \n",
        "            \n",
        "        # reverse the second part of the list [Problem 206]\n",
        "        # convert 1->2->3->4->5->6 into 1->2->3->4 and 6->5->4\n",
        "        # reverse the second half in-place\n",
        "        prev, curr = None, slow\n",
        "        while curr:\n",
        "            tmp = curr.next\n",
        "            curr.next = prev\n",
        "            prev = curr\n",
        "            curr = tmp \n",
        "            \n",
        "        # merge two sorted linked lists [Problem 21]\n",
        "        # merge 1->2->3->4 and 6->5->4 into 1->6->2->5->3->4\n",
        "        first, second = head, prev\n",
        "        while second.next:\n",
        "            tmp = first.next\n",
        "            first.next = second\n",
        "            first = tmp\n",
        "            \n",
        "            tmp = second.next\n",
        "            second.next = first\n",
        "            second = tmp"
      ],
      "execution_count": null,
      "outputs": []
    },
    {
      "cell_type": "markdown",
      "metadata": {
        "id": "gPsGNAts8fZ0"
      },
      "source": [
        "**Maximum Product Subarray**"
      ]
    },
    {
      "cell_type": "code",
      "metadata": {
        "id": "JRPu4-Rj65Qc"
      },
      "source": [
        "class Solution:\n",
        "    def maxProduct(self, nums: List[int]) -> int:\n",
        "        if len(nums) == 0:\n",
        "            return 0\n",
        "\n",
        "        max_so_far = nums[0]\n",
        "        min_so_far = nums[0]\n",
        "        result = max_so_far\n",
        "\n",
        "        for i in range(1, len(nums)):\n",
        "            curr = nums[i]\n",
        "            temp_max = max(curr, max_so_far * curr, min_so_far * curr)\n",
        "            min_so_far = min(curr, max_so_far * curr, min_so_far * curr)\n",
        "\n",
        "            max_so_far = temp_max\n",
        "\n",
        "            result = max(max_so_far, result)\n",
        "\n",
        "        return result\n",
        "        "
      ],
      "execution_count": null,
      "outputs": []
    },
    {
      "cell_type": "markdown",
      "metadata": {
        "id": "L3VcnIdJ9SoH"
      },
      "source": [
        "**Find Minimum in Rotated Sorted Array**"
      ]
    },
    {
      "cell_type": "code",
      "metadata": {
        "id": "8v6hVdL29Rof"
      },
      "source": [
        "class Solution(object):\n",
        "    def findMin(self, nums):\n",
        "        \"\"\"\n",
        "        :type nums: List[int]\n",
        "        :rtype: int\n",
        "        \"\"\"\n",
        "        left, right = 0, len(nums) - 1\n",
        "        while nums[left] > nums[right]:\n",
        "            middle  = (left + right) // 2\n",
        "            if nums[middle] < nums[right]:\n",
        "                right = middle\n",
        "            else:\n",
        "                left = middle + 1\n",
        "                \n",
        "        return nums[left]"
      ],
      "execution_count": null,
      "outputs": []
    },
    {
      "cell_type": "markdown",
      "metadata": {
        "id": "NlFGwhrK8Ena"
      },
      "source": [
        "**Course Schedule**"
      ]
    },
    {
      "cell_type": "code",
      "metadata": {
        "id": "zI-Ykrsc8JoX"
      },
      "source": [
        "class Solution(object):\n",
        "    def canFinish(self, numCourses, prerequisites):\n",
        "        \"\"\"\n",
        "        :type numCourses: int\n",
        "        :type prerequisites: List[List[int]]\n",
        "        :rtype: bool\n",
        "        \"\"\"\n",
        "        from collections import defaultdict\n",
        "        courseDict = defaultdict(list)\n",
        "\n",
        "        for relation in prerequisites:\n",
        "            nextCourse, prevCourse = relation[0], relation[1]\n",
        "            courseDict[prevCourse].append(nextCourse)\n",
        "\n",
        "        #checked = [False] * numCourses\n",
        "        path = [False] * numCourses\n",
        "\n",
        "        for currCourse in range(numCourses):\n",
        "            if self.isCyclic(currCourse, courseDict, path):\n",
        "                return False\n",
        "        return True\n",
        "\n",
        "\n",
        "    def isCyclic(self, currCourse, courseDict, path):\n",
        "        \n",
        "        if path[currCourse]:\n",
        "            # came across a marked node in the path, cyclic !\n",
        "            return True\n",
        "\n",
        "        # mark the node in the path\n",
        "        path[currCourse] = True\n",
        "\n",
        "        ret = False\n",
        "        # postorder DFS, to visit all its children first.\n",
        "        for child in courseDict[currCourse]:\n",
        "            ret = self.isCyclic(child, courseDict, path)\n",
        "            if ret: break\n",
        "\n",
        "        # 3). after the visits of children, we come back to process the node itself\n",
        "        # remove the node from the path\n",
        "        path[currCourse] = False\n",
        "\n",
        "        return ret"
      ],
      "execution_count": null,
      "outputs": []
    },
    {
      "cell_type": "markdown",
      "metadata": {
        "id": "GqNL1xSO-gvn"
      },
      "source": [
        "**Design Add and Search Words Data Structure**"
      ]
    },
    {
      "cell_type": "code",
      "metadata": {
        "id": "UN6pCoIn-cQt"
      },
      "source": [
        "class WordDictionary:\n",
        "\n",
        "    def __init__(self):\n",
        "        \"\"\"\n",
        "        Initialize your data structure here.\n",
        "        \"\"\"\n",
        "        self.trie = {}\n",
        "        \n",
        "\n",
        "    def addWord(self, word: str) -> None:\n",
        "        node = self.trie\n",
        "        \n",
        "        for ch in word:\n",
        "            if not ch in node:\n",
        "                node[ch] = {}\n",
        "            node = node[ch]\n",
        "        node['$'] = True\n",
        "        \n",
        "\n",
        "    def search(self, word: str) -> bool:\n",
        "        return self.search_in_node(word, self.trie)\n",
        "        \n",
        "        \n",
        "    def search_in_node(self, word, node) -> bool:\n",
        "        for i, ch in enumerate(word):\n",
        "            if not ch in node:\n",
        "                # if the current character is '.'\n",
        "                # check all possible nodes at this level\n",
        "                if ch == '.':\n",
        "                    for x in node:\n",
        "                        if x != '$' and self.search_in_node(word[i + 1:], node[x]):\n",
        "                            return True\n",
        "                # if no nodes lead to answer\n",
        "                # or the current character != '.'\n",
        "                return False\n",
        "            # if the character is found\n",
        "            # go down to the next level in trie\n",
        "            else:\n",
        "                node = node[ch]\n",
        "        return '$' in node"
      ],
      "execution_count": null,
      "outputs": []
    },
    {
      "cell_type": "markdown",
      "metadata": {
        "id": "nOZl2UBHATIt"
      },
      "source": [
        "**House Robber II**"
      ]
    },
    {
      "cell_type": "code",
      "metadata": {
        "id": "6wnxk8aSAVIi"
      },
      "source": [
        "class Solution:\n",
        "    def rob(self, nums: List[int]) -> int:\n",
        "        if len(nums) == 0 or nums is None:\n",
        "            return 0\n",
        "\n",
        "        if len(nums) == 1:\n",
        "            return nums[0]\n",
        "\n",
        "        return max(self.rob_simple(nums[:-1]), self.rob_simple(nums[1:]))\n",
        "\n",
        "    def rob_simple(self, nums: List[int]) -> int:\n",
        "        t1 = 0\n",
        "        t2 = 0\n",
        "        for current in nums:\n",
        "            temp = t1\n",
        "            t1 = max(current + t2, t1)\n",
        "            t2 = temp\n",
        "\n",
        "        return t1"
      ],
      "execution_count": null,
      "outputs": []
    },
    {
      "cell_type": "markdown",
      "metadata": {
        "id": "4wasvHvfcHwu"
      },
      "source": [
        "**Kth Smallest Element in a BST**"
      ]
    },
    {
      "cell_type": "code",
      "metadata": {
        "id": "iIGzdmTucGwt"
      },
      "source": [
        "# Definition for a binary tree node.\n",
        "# class TreeNode:\n",
        "#     def __init__(self, val=0, left=None, right=None):\n",
        "#         self.val = val\n",
        "#         self.left = left\n",
        "#         self.right = right\n",
        "class Solution:\n",
        "    def kthSmallest(self, root: TreeNode, k: int) -> int:\n",
        "        return self.inorder(root)[k-1]\n",
        "        \n",
        "    def inorder(self,root):\n",
        "        result = self.inorder(root.left) + [root.val] + self.inorder(root.right) if root else []\n",
        "        \n",
        "        return result"
      ],
      "execution_count": null,
      "outputs": []
    },
    {
      "cell_type": "markdown",
      "metadata": {
        "id": "qXBacTUfcwKc"
      },
      "source": [
        "**Lowest Common Ancestor of a Binary Search Tree**"
      ]
    },
    {
      "cell_type": "code",
      "metadata": {
        "id": "im18K_-xctHz"
      },
      "source": [
        "class Solution:\n",
        "    def lowestCommonAncestor(self, root, p, q):\n",
        "        \"\"\"\n",
        "        :type root: TreeNode\n",
        "        :type p: TreeNode\n",
        "        :type q: TreeNode\n",
        "        :rtype: TreeNode\n",
        "        \"\"\"\n",
        "        # Value of current node or parent node.\n",
        "        parent_val = root.val\n",
        "\n",
        "        # Value of p\n",
        "        p_val = p.val\n",
        "\n",
        "        # Value of q\n",
        "        q_val = q.val\n",
        "\n",
        "        # If both p and q are greater than parent\n",
        "        if p_val > parent_val and q_val > parent_val:    \n",
        "            return self.lowestCommonAncestor(root.right, p, q)\n",
        "        # If both p and q are lesser than parent\n",
        "        elif p_val < parent_val and q_val < parent_val:    \n",
        "            return self.lowestCommonAncestor(root.left, p, q)\n",
        "        # We have found the split point, i.e. the LCA node.\n",
        "        else:\n",
        "            return root"
      ],
      "execution_count": null,
      "outputs": []
    },
    {
      "cell_type": "markdown",
      "metadata": {
        "id": "zDEPRcdyd74o"
      },
      "source": [
        "**Product of Array Except Self**"
      ]
    },
    {
      "cell_type": "code",
      "metadata": {
        "id": "H0WSR4cId6x1"
      },
      "source": [
        "class Solution:\n",
        "    def productExceptSelf(self, nums: List[int]) -> List[int]:\n",
        "        \n",
        "        # The length of the input array \n",
        "        length = len(nums)\n",
        "        \n",
        "        # The left and right arrays as described in the algorithm\n",
        "        L, R, answer = [0]*length, [0]*length, [0]*length\n",
        "        \n",
        "        # L[i] contains the product of all the elements to the left\n",
        "        # Note: for the element at index '0', there are no elements to the left,\n",
        "        # so the L[0] would be 1\n",
        "        L[0] = 1\n",
        "        for i in range(1, length):\n",
        "            \n",
        "            # L[i - 1] already contains the product of elements to the left of 'i - 1'\n",
        "            # Simply multiplying it with nums[i - 1] would give the product of all \n",
        "            # elements to the left of index 'i'\n",
        "            L[i] = nums[i - 1] * L[i - 1]\n",
        "        \n",
        "        # R[i] contains the product of all the elements to the right\n",
        "        # Note: for the element at index 'length - 1', there are no elements to the right,\n",
        "        # so the R[length - 1] would be 1\n",
        "        R[length - 1] = 1\n",
        "        for i in reversed(range(length - 1)):\n",
        "            \n",
        "            # R[i + 1] already contains the product of elements to the right of 'i + 1'\n",
        "            # Simply multiplying it with nums[i + 1] would give the product of all \n",
        "            # elements to the right of index 'i'\n",
        "            R[i] = nums[i + 1] * R[i + 1]\n",
        "        \n",
        "        # Constructing the answer array\n",
        "        for i in range(length):\n",
        "            # For the first element, R[i] would be product except self\n",
        "            # For the last element of the array, product except self would be L[i]\n",
        "            # Else, multiple product of all elements to the left and to the right\n",
        "            answer[i] = L[i] * R[i]\n",
        "        \n",
        "        return answer"
      ],
      "execution_count": null,
      "outputs": []
    }
  ]
}