{
  "nbformat": 4,
  "nbformat_minor": 0,
  "metadata": {
    "colab": {
      "name": "Leetcode12/16/20.ipynb",
      "provenance": []
    },
    "kernelspec": {
      "name": "python3",
      "display_name": "Python 3"
    }
  },
  "cells": [
    {
      "cell_type": "markdown",
      "metadata": {
        "id": "MKxYmA3I4vZ9"
      },
      "source": [
        "**Subsets**"
      ]
    },
    {
      "cell_type": "code",
      "metadata": {
        "id": "P-OxzMZ_4t4o"
      },
      "source": [
        "class Solution:\n",
        "    def subsets(self, nums: List[int]) -> List[List[int]]:\n",
        "        self.result = []\n",
        "        self.nums = nums\n",
        "        \n",
        "        for k in range(len(self.nums) + 1):\n",
        "            self.backtrack(0, [], k)\n",
        "        \n",
        "        return self.result\n",
        "        \n",
        "    def backtrack(self, start, curr, k):\n",
        "        # if the combination is done\n",
        "        if len(curr) == k: \n",
        "            self.result.append(curr[:])\n",
        "            \n",
        "        for i in range(start, len(self.nums)):\n",
        "            # add nums[i] into the current combination\n",
        "            curr.append(self.nums[i])\n",
        "            # use next integers to complete the combination\n",
        "            self.backtrack(i + 1, curr, k)\n",
        "            # backtrack\n",
        "            curr.pop()\n",
        "            \n",
        "        return self.result"
      ],
      "execution_count": null,
      "outputs": []
    },
    {
      "cell_type": "markdown",
      "metadata": {
        "id": "ZVHVtF3k8Coa"
      },
      "source": [
        "**Subsets II**"
      ]
    },
    {
      "cell_type": "code",
      "metadata": {
        "id": "URS7xW8W7-20"
      },
      "source": [
        "class Solution:    \n",
        "    def subsetsWithDup(self, nums: List[int]) -> List[List[int]]:\n",
        "        self.result = []\n",
        "        self.backtrack(sorted(nums),[])\n",
        "        \n",
        "        return self.result\n",
        "    \n",
        "    def backtrack(self, nums, subArr):\n",
        "        self.result.append(subArr)\n",
        "        \n",
        "        for i in range(len(nums)):\n",
        "            if i > 0 and nums[i] == nums[i-1]:\n",
        "                continue\n",
        "            self.backtrack(nums[i+1:], subArr+[nums[i]])"
      ],
      "execution_count": null,
      "outputs": []
    },
    {
      "cell_type": "markdown",
      "metadata": {
        "id": "UloVGNrGI-4F"
      },
      "source": [
        "**Permutations**"
      ]
    },
    {
      "cell_type": "code",
      "metadata": {
        "id": "jGtrZzZ2I910"
      },
      "source": [
        "class Solution:\n",
        "    def permute(self, nums: List[int]) -> List[List[int]]:\n",
        "        self.result = []\n",
        "        self.backtrack(0, nums)\n",
        "        return self.result\n",
        "        \n",
        "    \n",
        "    def backtrack(self, start, nums):\n",
        "        # if all integers are used up\n",
        "        if start == len(nums):  \n",
        "            self.result.append(nums[:])\n",
        "            \n",
        "        for i in range(start, len(nums)):\n",
        "            # place i-th integer first \n",
        "            # in the current permutation\n",
        "            nums[start], nums[i] = nums[i], nums[start]\n",
        "            # use next integers to complete the permutations\n",
        "            self.backtrack(start + 1, nums)\n",
        "            # backtrack\n",
        "            nums[start], nums[i] = nums[i], nums[start]"
      ],
      "execution_count": null,
      "outputs": []
    },
    {
      "cell_type": "markdown",
      "metadata": {
        "id": "hE3wD7O9KsnS"
      },
      "source": [
        "**Combinations**"
      ]
    },
    {
      "cell_type": "code",
      "metadata": {
        "id": "k1KZwFuYKowW"
      },
      "source": [
        "class Solution:\n",
        "    def combine(self, n: int, k: int) -> List[List[int]]:\n",
        "        self.k = k\n",
        "        self.n = n\n",
        "        self.result = []\n",
        "        self.backtrack(1, [])\n",
        "        \n",
        "        return self.result\n",
        "    \n",
        "    def backtrack(self, start, curr):\n",
        "        # if the combination is done\n",
        "        if len(curr) == self.k:  \n",
        "            self.result.append(curr[:])\n",
        "        for i in range(start, self.n + 1):\n",
        "            # add i into the current combination\n",
        "            curr.append(i)\n",
        "            # use next integers to complete the combination\n",
        "            self.backtrack(i + 1, curr)\n",
        "            # backtrack\n",
        "            curr.pop()"
      ],
      "execution_count": null,
      "outputs": []
    }
  ]
}