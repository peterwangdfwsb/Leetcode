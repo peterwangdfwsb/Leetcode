{
  "nbformat": 4,
  "nbformat_minor": 0,
  "metadata": {
    "colab": {
      "name": "Leetcode12_17_20.ipynb",
      "provenance": []
    },
    "kernelspec": {
      "name": "python3",
      "display_name": "Python 3"
    }
  },
  "cells": [
    {
      "cell_type": "markdown",
      "metadata": {
        "id": "29klMAyxVyV_"
      },
      "source": [
        "**Letter Combinations of a Phone Number**"
      ]
    },
    {
      "cell_type": "code",
      "metadata": {
        "id": "3Qu2uDzTVly3"
      },
      "source": [
        "class Solution:\n",
        "    def letterCombinations(self, digits: str) -> List[str]:\n",
        "        \"\"\"\n",
        "        :type digits: str\n",
        "        :rtype: List[str]\n",
        "        \"\"\"\n",
        "        \n",
        "        self.phone = {'2': ['a', 'b', 'c'], \n",
        "                 '3': ['d', 'e', 'f'],\n",
        "                 '4': ['g', 'h', 'i'],\n",
        "                 '5': ['j', 'k', 'l'],\n",
        "                 '6': ['m', 'n', 'o'],\n",
        "                 '7': ['p', 'q', 'r', 's'],\n",
        "                 '8': ['t', 'u', 'v'],\n",
        "                 '9': ['w', 'x', 'y', 'z']}\n",
        "        self.result = []\n",
        "        self.digits = digits\n",
        "        \n",
        "        if digits:\n",
        "            self.backtrack(\"\", self.digits)\n",
        "            \n",
        "        return self.result\n",
        "        \n",
        "    def backtrack(self, combination, next_digits):\n",
        "        # if there is no more digits to check\n",
        "        if len(next_digits) == 0:\n",
        "            # the combination is done\n",
        "            self.result.append(combination)\n",
        "        # if there are still digits to check\n",
        "        else:\n",
        "            # iterate over all letters which map \n",
        "            # the next available digit\n",
        "            for letter in self.phone[next_digits[0]]:\n",
        "                # append the current letter to the combination\n",
        "                # and proceed to the next digits\n",
        "                self.backtrack(combination + letter, next_digits[1:])"
      ],
      "execution_count": null,
      "outputs": []
    },
    {
      "cell_type": "markdown",
      "metadata": {
        "id": "dNSxlsvEZpeP"
      },
      "source": [
        "**Binary Tree Preorder Traversal**"
      ]
    },
    {
      "cell_type": "code",
      "metadata": {
        "id": "vaplv5DrZiuQ"
      },
      "source": [
        "# Definition for a binary tree node.\n",
        "# class TreeNode:\n",
        "#     def __init__(self, val=0, left=None, right=None):\n",
        "#         self.val = val\n",
        "#         self.left = left\n",
        "#         self.right = right\n",
        "class Solution:\n",
        "    def preorderTraversal(self, root: TreeNode) -> List[int]:\n",
        "        self.result=[]\n",
        "          \n",
        "        self.helper(root)\n",
        "        \n",
        "        return self.result\n",
        "        \n",
        "    def helper(self, node):\n",
        "        if node is None:\n",
        "            return\n",
        "        \n",
        "        self.result.append(node.val)\n",
        "            \n",
        "        self.helper(node.left)\n",
        "        \n",
        "        self.helper(node.right)"
      ],
      "execution_count": null,
      "outputs": []
    },
    {
      "cell_type": "markdown",
      "metadata": {
        "id": "IV8qDq-bdsrt"
      },
      "source": [
        "**Binary Tree Inorder Traversal**"
      ]
    },
    {
      "cell_type": "code",
      "metadata": {
        "id": "fgJCjO47doAO"
      },
      "source": [
        "# Definition for a binary tree node.\n",
        "# class TreeNode:\n",
        "#     def __init__(self, val=0, left=None, right=None):\n",
        "#         self.val = val\n",
        "#         self.left = left\n",
        "#         self.right = right\n",
        "class Solution:\n",
        "    def inorderTraversal(self, root: TreeNode) -> List[int]:\n",
        "        self.result=[]\n",
        "        \n",
        "        self.helper(root)\n",
        "        \n",
        "        return self.result\n",
        "    \n",
        "    def helper(self, node):\n",
        "        if node is None:\n",
        "            return\n",
        "        \n",
        "        self.helper(node.left)\n",
        "        \n",
        "        self.result.append(node.val)\n",
        "        \n",
        "        self.helper(node.right)"
      ],
      "execution_count": null,
      "outputs": []
    },
    {
      "cell_type": "markdown",
      "metadata": {
        "id": "BH5Rb8rNfSWr"
      },
      "source": [
        "**Binary Tree Postorder Traversal**"
      ]
    },
    {
      "cell_type": "code",
      "metadata": {
        "id": "y2zq7HSOfM14"
      },
      "source": [
        "# Definition for a binary tree node.\n",
        "# class TreeNode:\n",
        "#     def __init__(self, val=0, left=None, right=None):\n",
        "#         self.val = val\n",
        "#         self.left = left\n",
        "#         self.right = right\n",
        "class Solution:\n",
        "    def postorderTraversal(self, root: TreeNode) -> List[int]:\n",
        "        self.result = []\n",
        "        \n",
        "        self.helper(root)\n",
        "        \n",
        "        return self.result\n",
        "    \n",
        "    def helper(self, node):\n",
        "        if node is None:\n",
        "            return\n",
        "        \n",
        "        self.helper(node.left)\n",
        "        \n",
        "        self.helper(node.right)\n",
        "        \n",
        "        self.result.append(node.val)"
      ],
      "execution_count": null,
      "outputs": []
    }
  ]
}