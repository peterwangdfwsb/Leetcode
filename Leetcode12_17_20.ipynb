{
  "nbformat": 4,
  "nbformat_minor": 0,
  "metadata": {
    "colab": {
      "name": "Leetcode12_17_20.ipynb",
      "provenance": []
    },
    "kernelspec": {
      "name": "python3",
      "display_name": "Python 3"
    }
  },
  "cells": [
    {
      "cell_type": "markdown",
      "metadata": {
        "id": "29klMAyxVyV_"
      },
      "source": [
        "**Letter Combinations of a Phone Number**"
      ]
    },
    {
      "cell_type": "code",
      "metadata": {
        "id": "3Qu2uDzTVly3"
      },
      "source": [
        "class Solution:\n",
        "    def letterCombinations(self, digits: str) -> List[str]:\n",
        "        \"\"\"\n",
        "        :type digits: str\n",
        "        :rtype: List[str]\n",
        "        \"\"\"\n",
        "        \n",
        "        self.phone = {'2': ['a', 'b', 'c'], \n",
        "                 '3': ['d', 'e', 'f'],\n",
        "                 '4': ['g', 'h', 'i'],\n",
        "                 '5': ['j', 'k', 'l'],\n",
        "                 '6': ['m', 'n', 'o'],\n",
        "                 '7': ['p', 'q', 'r', 's'],\n",
        "                 '8': ['t', 'u', 'v'],\n",
        "                 '9': ['w', 'x', 'y', 'z']}\n",
        "        self.result = []\n",
        "        self.digits = digits\n",
        "        \n",
        "        if digits:\n",
        "            self.backtrack(\"\", self.digits)\n",
        "            \n",
        "        return self.result\n",
        "        \n",
        "    def backtrack(self, combination, next_digits):\n",
        "        # if there is no more digits to check\n",
        "        if len(next_digits) == 0:\n",
        "            # the combination is done\n",
        "            self.result.append(combination)\n",
        "        # if there are still digits to check\n",
        "        else:\n",
        "            # iterate over all letters which map \n",
        "            # the next available digit\n",
        "            for letter in self.phone[next_digits[0]]:\n",
        "                # append the current letter to the combination\n",
        "                # and proceed to the next digits\n",
        "                self.backtrack(combination + letter, next_digits[1:])"
      ],
      "execution_count": null,
      "outputs": []
    },
    {
      "cell_type": "markdown",
      "metadata": {
        "id": "dNSxlsvEZpeP"
      },
      "source": [
        "**Binary Tree Preorder Traversal**"
      ]
    },
    {
      "cell_type": "code",
      "metadata": {
        "id": "vaplv5DrZiuQ"
      },
      "source": [
        "# Definition for a binary tree node.\n",
        "# class TreeNode:\n",
        "#     def __init__(self, val=0, left=None, right=None):\n",
        "#         self.val = val\n",
        "#         self.left = left\n",
        "#         self.right = right\n",
        "class Solution:\n",
        "    def preorderTraversal(self, root: TreeNode) -> List[int]:\n",
        "        self.result=[]\n",
        "          \n",
        "        self.helper(root)\n",
        "        \n",
        "        return self.result\n",
        "        \n",
        "    def helper(self, node):\n",
        "        if node is None:\n",
        "            return\n",
        "        \n",
        "        self.result.append(node.val)\n",
        "            \n",
        "        self.helper(node.left)\n",
        "        \n",
        "        self.helper(node.right)"
      ],
      "execution_count": null,
      "outputs": []
    },
    {
      "cell_type": "markdown",
      "metadata": {
        "id": "IV8qDq-bdsrt"
      },
      "source": [
        "**Binary Tree Inorder Traversal**"
      ]
    },
    {
      "cell_type": "code",
      "metadata": {
        "id": "fgJCjO47doAO"
      },
      "source": [
        "# Definition for a binary tree node.\n",
        "# class TreeNode:\n",
        "#     def __init__(self, val=0, left=None, right=None):\n",
        "#         self.val = val\n",
        "#         self.left = left\n",
        "#         self.right = right\n",
        "class Solution:\n",
        "    def inorderTraversal(self, root: TreeNode) -> List[int]:\n",
        "        self.result=[]\n",
        "        \n",
        "        self.helper(root)\n",
        "        \n",
        "        return self.result\n",
        "    \n",
        "    def helper(self, node):\n",
        "        if node is None:\n",
        "            return\n",
        "        \n",
        "        self.helper(node.left)\n",
        "        \n",
        "        self.result.append(node.val)\n",
        "        \n",
        "        self.helper(node.right)"
      ],
      "execution_count": null,
      "outputs": []
    },
    {
      "cell_type": "markdown",
      "metadata": {
        "id": "BH5Rb8rNfSWr"
      },
      "source": [
        "**Binary Tree Postorder Traversal**"
      ]
    },
    {
      "cell_type": "code",
      "metadata": {
        "id": "y2zq7HSOfM14"
      },
      "source": [
        "# Definition for a binary tree node.\n",
        "# class TreeNode:\n",
        "#     def __init__(self, val=0, left=None, right=None):\n",
        "#         self.val = val\n",
        "#         self.left = left\n",
        "#         self.right = right\n",
        "class Solution:\n",
        "    def postorderTraversal(self, root: TreeNode) -> List[int]:\n",
        "        self.result = []\n",
        "        \n",
        "        self.helper(root)\n",
        "        \n",
        "        return self.result\n",
        "    \n",
        "    def helper(self, node):\n",
        "        if node is None:\n",
        "            return\n",
        "        \n",
        "        self.helper(node.left)\n",
        "        \n",
        "        self.helper(node.right)\n",
        "        \n",
        "        self.result.append(node.val)"
      ],
      "execution_count": null,
      "outputs": []
    },
    {
      "cell_type": "markdown",
      "metadata": {
        "id": "4Gzf--CR_IAa"
      },
      "source": [
        "**Symmetric Tree**"
      ]
    },
    {
      "cell_type": "code",
      "metadata": {
        "id": "ezeO2ly2_HFZ"
      },
      "source": [
        "# Definition for a binary tree node.\n",
        "# class TreeNode:\n",
        "#     def __init__(self, val=0, left=None, right=None):\n",
        "#         self.val = val\n",
        "#         self.left = left\n",
        "#         self.right = right\n",
        "class Solution:\n",
        "    def isSymmetric(self, root: TreeNode) -> bool:\n",
        "        \n",
        "        result = self.helper(root, root)\n",
        "        \n",
        "        return result\n",
        "    \n",
        "    def helper(self, node1, node2):\n",
        "        if node1 is None and node2 is None:\n",
        "            return True\n",
        "        \n",
        "        if node1 is None or node2 is None:\n",
        "            return False \n",
        "        \n",
        "        if node1.val == node2.val and self.helper(node1.left, node2.right) and self.helper(node1.right, node2.left):\n",
        "            return True\n",
        "        else:\n",
        "            return False"
      ],
      "execution_count": null,
      "outputs": []
    },
    {
      "cell_type": "markdown",
      "metadata": {
        "id": "WrH6DeRXAlN4"
      },
      "source": [
        "**Invert Binary Tree**"
      ]
    },
    {
      "cell_type": "code",
      "metadata": {
        "id": "uxqz3zTvAi03"
      },
      "source": [
        "# Definition for a binary tree node.\n",
        "# class TreeNode:\n",
        "#     def __init__(self, val=0, left=None, right=None):\n",
        "#         self.val = val\n",
        "#         self.left = left\n",
        "#         self.right = right\n",
        "class Solution:\n",
        "    def invertTree(self, root: TreeNode) -> TreeNode:\n",
        "        result = self.helper(root)\n",
        "        \n",
        "        return result\n",
        "    \n",
        "    def helper(self, node):\n",
        "        if node is None:\n",
        "            return\n",
        "        \n",
        "        left = self.helper(node.left)\n",
        "        right = self.helper(node.right)\n",
        "        \n",
        "        node.left = right\n",
        "        node.right = left\n",
        "        \n",
        "        return node"
      ],
      "execution_count": null,
      "outputs": []
    },
    {
      "cell_type": "markdown",
      "metadata": {
        "id": "nTM8XM1hNmQD"
      },
      "source": [
        "**Binary Tree Paths**"
      ]
    },
    {
      "cell_type": "code",
      "metadata": {
        "id": "tcv7dydQNgqv"
      },
      "source": [
        "# Definition for a binary tree node.\n",
        "# class TreeNode:\n",
        "#     def __init__(self, val=0, left=None, right=None):\n",
        "#         self.val = val\n",
        "#         self.left = left\n",
        "#         self.right = right\n",
        "class Solution:\n",
        "    def binaryTreePaths(self, root: TreeNode) -> List[str]:\n",
        "        self.result = []\n",
        "        \n",
        "        self.helper(root, '')\n",
        "        \n",
        "        return self.result\n",
        "    \n",
        "    def helper(self, node, path):\n",
        "        if node is None:\n",
        "            return \n",
        "        \n",
        "        path += str(node.val)\n",
        "        \n",
        "        if node.left is None and node.right is None:\n",
        "            self.result.append(path)\n",
        "            \n",
        "        path += '->'\n",
        "        \n",
        "        self.helper(node.left, path)\n",
        "        self.helper(node.right, path)"
      ],
      "execution_count": null,
      "outputs": []
    },
    {
      "cell_type": "markdown",
      "metadata": {
        "id": "SEpuVSE7V_Qg"
      },
      "source": [
        "**Path Sum**"
      ]
    },
    {
      "cell_type": "code",
      "metadata": {
        "id": "5yXiii7xV_wb"
      },
      "source": [
        "# Definition for a binary tree node.\n",
        "# class TreeNode:\n",
        "#     def __init__(self, val=0, left=None, right=None):\n",
        "#         self.val = val\n",
        "#         self.left = left\n",
        "#         self.right = right\n",
        "class Solution:\n",
        "    def hasPathSum(self, root: TreeNode, sum: int) -> bool:\n",
        "        result = self.helper(root, sum)\n",
        "        \n",
        "        return result\n",
        "        \n",
        "        \n",
        "        \n",
        "    def helper(self, node, sum):\n",
        "        \n",
        "        if node is None:\n",
        "            return False\n",
        "        \n",
        "        sum -= node.val\n",
        "        \n",
        "        if node.left is None and node.right is None:\n",
        "            return sum == 0\n",
        "        \n",
        "        return self.helper(node.left, sum) or self.helper(node.right, sum)"
      ],
      "execution_count": null,
      "outputs": []
    },
    {
      "cell_type": "markdown",
      "metadata": {
        "id": "8pSy1WrDXqbb"
      },
      "source": [
        "**Path Sum II**"
      ]
    },
    {
      "cell_type": "code",
      "metadata": {
        "id": "xA8invxdXlJh"
      },
      "source": [
        "# Definition for a binary tree node.\n",
        "# class TreeNode:\n",
        "#     def __init__(self, val=0, left=None, right=None):\n",
        "#         self.val = val\n",
        "#         self.left = left\n",
        "#         self.right = right\n",
        "class Solution:\n",
        "    def pathSum(self, root: TreeNode, sum: int) -> List[List[int]]:\n",
        "        self.result = []\n",
        "        \n",
        "        self.helper(root, sum, [])\n",
        "        \n",
        "        return self.result\n",
        "    \n",
        "    def helper(self, node, remain, pathNodes):\n",
        "        \n",
        "        if node is None:\n",
        "            return\n",
        "        \n",
        "        pathNodes.append(node.val)\n",
        "        \n",
        "        if remain == node.val and node.left is None and node.right is None:\n",
        "            self.result.append(list(pathNodes))\n",
        "        else:\n",
        "            self.helper(node.left, remain - node.val, pathNodes)\n",
        "            self.helper(node.right, remain - node.val, pathNodes)\n",
        "            \n",
        "        pathNodes.pop()"
      ],
      "execution_count": null,
      "outputs": []
    },
    {
      "cell_type": "markdown",
      "metadata": {
        "id": "QVVB9T0UZX1G"
      },
      "source": [
        "**Minimum Depth of Binary Tree**"
      ]
    },
    {
      "cell_type": "code",
      "metadata": {
        "id": "VUgHsJt4ZUM4"
      },
      "source": [
        "# Definition for a binary tree node.\n",
        "# class TreeNode:\n",
        "#     def __init__(self, val=0, left=None, right=None):\n",
        "#         self.val = val\n",
        "#         self.left = left\n",
        "#         self.right = right\n",
        "class Solution:\n",
        "    def minDepth(self, root: TreeNode) -> int:\n",
        "        result = self.helper(root)\n",
        "        \n",
        "        return result\n",
        "        \n",
        "    def helper(self, node):\n",
        "        if node is None:\n",
        "            return 0\n",
        "        \n",
        "        if node.left and node.right:\n",
        "            return min(self.helper(node.left), self.helper(node.right)) + 1\n",
        "        elif node.left is None or node.right is None:\n",
        "            return max(self.helper(node.left), self.helper(node.right)) + 1\n",
        "        else:\n",
        "            return 1"
      ],
      "execution_count": null,
      "outputs": []
    },
    {
      "cell_type": "markdown",
      "metadata": {
        "id": "nhwMnlwjpSVv"
      },
      "source": [
        "**Balanced Binary Tree**"
      ]
    },
    {
      "cell_type": "code",
      "metadata": {
        "id": "aUfOtuv9pUQw"
      },
      "source": [
        "# Definition for a binary tree node.\n",
        "# class TreeNode:\n",
        "#     def __init__(self, val=0, left=None, right=None):\n",
        "#         self.val = val\n",
        "#         self.left = left\n",
        "#         self.right = right\n",
        "class Solution:\n",
        "    def isBalanced(self, root: TreeNode) -> bool:\n",
        "        if root is None:\n",
        "            return True\n",
        "        \n",
        "        left_subtree = self.helper(root.left)\n",
        "        right_subtree = self.helper(root.right)\n",
        "        \n",
        "        height = abs(left_subtree - right_subtree)\n",
        "        \n",
        "        return height < 2 and self.isBalanced(root.left) and self.isBalanced(root.right)\n",
        "    \n",
        "    def helper(self, node):\n",
        "        if node is None:\n",
        "            return -1\n",
        "        \n",
        "        return 1 + max(self.helper(node.left), self.helper(node.right))"
      ],
      "execution_count": null,
      "outputs": []
    },
    {
      "cell_type": "markdown",
      "metadata": {
        "id": "5-LojniHpWpM"
      },
      "source": [
        "**House Robber III**"
      ]
    },
    {
      "cell_type": "code",
      "metadata": {
        "id": "AnEEO4ZSpapb"
      },
      "source": [
        "# Definition for a binary tree node.\n",
        "# class TreeNode:\n",
        "#     def __init__(self, val=0, left=None, right=None):\n",
        "#         self.val = val\n",
        "#         self.left = left\n",
        "#         self.right = right\n",
        "class Solution:\n",
        "    def rob(self, root: TreeNode) -> int:\n",
        "        result = max(self.helper(root))\n",
        "        \n",
        "        return result\n",
        "        \n",
        "        \n",
        "    def helper(self, node):\n",
        "        if node is None:\n",
        "            return (0, 0)\n",
        "        \n",
        "        left = self.helper(node.left)\n",
        "        right = self.helper(node.right)\n",
        "        \n",
        "        rob = node.val + left[1] + right[1]\n",
        "        not_rob = max(left) + max(right)\n",
        "        \n",
        "        return [rob, not_rob]"
      ],
      "execution_count": null,
      "outputs": []
    }
  ]
}