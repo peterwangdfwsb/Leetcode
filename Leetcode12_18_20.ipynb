{
  "nbformat": 4,
  "nbformat_minor": 0,
  "metadata": {
    "colab": {
      "name": "Leetcode12_18_20.ipynb",
      "provenance": []
    },
    "kernelspec": {
      "name": "python3",
      "display_name": "Python 3"
    }
  },
  "cells": [
    {
      "cell_type": "markdown",
      "metadata": {
        "id": "iAk4oJXMKo-P"
      },
      "source": [
        "**Climbing Stairs**"
      ]
    },
    {
      "cell_type": "code",
      "metadata": {
        "id": "t4SBJqtjKfh3"
      },
      "source": [
        "class Solution:\n",
        "    def climbStairs(self, n: int) -> int:\n",
        "        if n == 1:\n",
        "            return 1\n",
        "        \n",
        "        if n == 2:\n",
        "            return 2\n",
        "        \n",
        "        dp = n * [0]\n",
        "        \n",
        "        dp[0] = 1\n",
        "        dp[1] = 2\n",
        "        \n",
        "        for i in range(2, n):\n",
        "            dp[i] = dp[i-1] + dp[i-2]\n",
        "        \n",
        "        return dp[n-1]"
      ],
      "execution_count": null,
      "outputs": []
    },
    {
      "cell_type": "markdown",
      "metadata": {
        "id": "OqwyTLHcLQ27"
      },
      "source": [
        "**Unique Paths II**"
      ]
    },
    {
      "cell_type": "code",
      "metadata": {
        "id": "dTkkoo60LNFY"
      },
      "source": [
        "class Solution(object):\n",
        "    def uniquePathsWithObstacles(self, obstacleGrid):\n",
        "        \"\"\"\n",
        "        :type obstacleGrid: List[List[int]]\n",
        "        :rtype: int\n",
        "        \"\"\"\n",
        "\n",
        "        m = len(obstacleGrid)\n",
        "        n = len(obstacleGrid[0])\n",
        "\n",
        "        # If the starting cell has an obstacle, then simply return as there would be\n",
        "        # no paths to the destination.\n",
        "        if obstacleGrid[0][0] == 1:\n",
        "            return 0\n",
        "\n",
        "        # Number of ways of reaching the starting cell = 1.\n",
        "        obstacleGrid[0][0] = 1\n",
        "\n",
        "        # Filling the values for the first column\n",
        "        for i in range(1,m):\n",
        "            obstacleGrid[i][0] = int(obstacleGrid[i][0] == 0 and obstacleGrid[i-1][0] == 1)\n",
        "\n",
        "        # Filling the values for the first row        \n",
        "        for j in range(1, n):\n",
        "            obstacleGrid[0][j] = int(obstacleGrid[0][j] == 0 and obstacleGrid[0][j-1] == 1)\n",
        "\n",
        "        # Starting from cell(1,1) fill up the values\n",
        "        # No. of ways of reaching cell[i][j] = cell[i - 1][j] + cell[i][j - 1]\n",
        "        # i.e. From above and left.\n",
        "        for i in range(1,m):\n",
        "            for j in range(1,n):\n",
        "                if obstacleGrid[i][j] == 0:\n",
        "                    obstacleGrid[i][j] = obstacleGrid[i-1][j] + obstacleGrid[i][j-1]\n",
        "                else:\n",
        "                    obstacleGrid[i][j] = 0\n",
        "\n",
        "        # Return value stored in rightmost bottommost cell. That is the destination.            \n",
        "        return obstacleGrid[m-1][n-1]"
      ],
      "execution_count": null,
      "outputs": []
    },
    {
      "cell_type": "markdown",
      "metadata": {
        "id": "Wec6zcN2MeS3"
      },
      "source": [
        "**Coin Change**"
      ]
    },
    {
      "cell_type": "code",
      "metadata": {
        "id": "7nFY-cZTMdPL"
      },
      "source": [
        "class Solution:\n",
        "    def coinChange(self, coins: List[int], amount: int) -> int:\n",
        "        dp = [float('inf')] * (amount + 1)\n",
        "        dp[0] = 0\n",
        "        \n",
        "        for coin in coins:\n",
        "            for x in range(coin, amount + 1):\n",
        "                dp[x] = min(dp[x], dp[x - coin] + 1)\n",
        "        \n",
        "        if dp[amount] != float('inf'):\n",
        "            return dp[amount]\n",
        "        else:\n",
        "            return -1"
      ],
      "execution_count": null,
      "outputs": []
    },
    {
      "cell_type": "markdown",
      "metadata": {
        "id": "0ncIEqGVOWxn"
      },
      "source": [
        "**Combination Sum IV**"
      ]
    },
    {
      "cell_type": "code",
      "metadata": {
        "id": "C-P6SgrGOV5q"
      },
      "source": [
        "class Solution:\n",
        "    def combinationSum4(self, nums: List[int], target: int) -> int:\n",
        "        self.memo = {}\n",
        "        self.nums = nums\n",
        "        \n",
        "        result = self.helper(target)\n",
        "        \n",
        "        return result\n",
        "    \n",
        "    def helper(self, target):\n",
        "        if target in self.memo:\n",
        "            return self.memo[target]\n",
        "        else:\n",
        "            cnt = 0\n",
        "            for element in self.nums:\n",
        "                if target - element == 0:\n",
        "                    cnt += 1\n",
        "                elif target - element < 0:\n",
        "                    continue\n",
        "                else:\n",
        "                    cnt += self.helper(target - element)\n",
        "                    \n",
        "            self.memo[target] = cnt\n",
        "            return cnt"
      ],
      "execution_count": null,
      "outputs": []
    },
    {
      "cell_type": "markdown",
      "metadata": {
        "id": "FD9yNcN3R_ox"
      },
      "source": [
        "**Minimum Path Sum**"
      ]
    },
    {
      "cell_type": "code",
      "metadata": {
        "id": "rn4FZUEwR-p7"
      },
      "source": [
        "class Solution:\n",
        "    def minPathSum(self, grid: List[List[int]]) -> int:\n",
        "        row, col = len(grid), len(grid[0])\n",
        "        \n",
        "        dp = [[0 for _ in range(col)] for _ in range(row)]\n",
        "        dp[0][0] = grid[0][0]\n",
        "        \n",
        "        for i in range(1, row):\n",
        "            dp[i][0] = grid[i][0] + dp[i-1][0]\n",
        "            \n",
        "        for j in range(1, col):\n",
        "            dp[0][j] = grid[0][j] + dp[0][j-1]\n",
        "            \n",
        "        for i in range(1, row):\n",
        "            for j in range(1, col):\n",
        "                dp[i][j] = grid[i][j] + min(dp[i - 1][j], dp[i][j - 1])\n",
        "                \n",
        "        return dp[row - 1][col - 1]"
      ],
      "execution_count": null,
      "outputs": []
    }
  ]
}