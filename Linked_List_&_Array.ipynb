{
  "nbformat": 4,
  "nbformat_minor": 0,
  "metadata": {
    "colab": {
      "name": "Linked List & Array.ipynb",
      "provenance": []
    },
    "kernelspec": {
      "name": "python3",
      "display_name": "Python 3"
    }
  },
  "cells": [
    {
      "cell_type": "markdown",
      "metadata": {
        "id": "cvfykQTcAubS"
      },
      "source": [
        "**Linked List & Array**"
      ]
    },
    {
      "cell_type": "markdown",
      "metadata": {
        "id": "TzlKAB33t5Am"
      },
      "source": [
        "**Merge Two Sorted Lists**"
      ]
    },
    {
      "cell_type": "code",
      "metadata": {
        "id": "NoBRQzlMt1tI"
      },
      "source": [
        "class Solution:\n",
        "    def mergeTwoLists(self, l1, l2):\n",
        "        # maintain an unchanging reference to node ahead of the return node.\n",
        "        dummy = ListNode(-1)\n",
        "\n",
        "        prev = dummy\n",
        "        while l1 and l2:\n",
        "            if l1.val <= l2.val:\n",
        "                prev.next = l1\n",
        "                l1 = l1.next\n",
        "            else:\n",
        "                prev.next = l2\n",
        "                l2 = l2.next            \n",
        "            prev = prev.next\n",
        "\n",
        "        # exactly one of l1 and l2 can be non-null at this point, so connect\n",
        "        # the non-null list to the end of the merged list. \n",
        "        prev.next = l1 if l1 is not None else l2\n",
        "\n",
        "        return dummy.next"
      ],
      "execution_count": null,
      "outputs": []
    },
    {
      "cell_type": "markdown",
      "metadata": {
        "id": "fjK_kszpuEya"
      },
      "source": [
        "**Merge k Sorted Lists**"
      ]
    },
    {
      "cell_type": "code",
      "metadata": {
        "id": "bDzFhVa9uA0F"
      },
      "source": [
        "# Definition for singly-linked list.\n",
        "# class ListNode:\n",
        "#     def __init__(self, val=0, next=None):\n",
        "#         self.val = val\n",
        "#         self.next = next\n",
        "class Solution:\n",
        "    def mergeKLists(self, lists: List[ListNode]) -> ListNode:\n",
        "        \n",
        "        amount = len(lists)\n",
        "        interval = 1\n",
        "        \n",
        "        while interval < amount:\n",
        "            for i in range(0, amount - interval, interval*2):\n",
        "                lists[i] = self.merge2lists(lists[i], lists[i + interval])\n",
        "            interval *= 2\n",
        "            \n",
        "        return lists[0] if amount > 0 else None\n",
        "    \n",
        "    def merge2lists(self, l1, l2):\n",
        "        \n",
        "        dummy = ListNode(0)\n",
        "        prehead = dummy\n",
        "        \n",
        "        while l1 and l2:\n",
        "            if l1.val < l2.val:\n",
        "                prehead.next = l1\n",
        "                l1 = l1.next\n",
        "            else:\n",
        "                prehead.next = l2\n",
        "                l2 = l2.next\n",
        "            prehead = prehead.next\n",
        "            \n",
        "        if not l1:\n",
        "            prehead.next = l2\n",
        "        else:\n",
        "            prehead.next = l1\n",
        "            \n",
        "        return dummy.next"
      ],
      "execution_count": null,
      "outputs": []
    },
    {
      "cell_type": "markdown",
      "metadata": {
        "id": "bDDt_kiUoLg5"
      },
      "source": [
        "**Reverse Linked List**"
      ]
    },
    {
      "cell_type": "code",
      "metadata": {
        "id": "Z3kwX2jboH6K"
      },
      "source": [
        "# Definition for singly-linked list.\n",
        "# class ListNode:\n",
        "#     def __init__(self, val=0, next=None):\n",
        "#         self.val = val\n",
        "#         self.next = next\n",
        "class Solution:\n",
        "    def reverseList(self, head: ListNode) -> ListNode:\n",
        "        curr = head\n",
        "        prev = None\n",
        "        \n",
        "        while curr != None:\n",
        "            temp = curr.next\n",
        "            curr.next = prev\n",
        "            prev = curr\n",
        "            curr = temp\n",
        "        \n",
        "        return prev"
      ],
      "execution_count": null,
      "outputs": []
    },
    {
      "cell_type": "markdown",
      "metadata": {
        "id": "g1eBozQAlZAl"
      },
      "source": [
        "**Reverse Nodes in k-Group**"
      ]
    },
    {
      "cell_type": "code",
      "metadata": {
        "id": "Ij_tSauElr5H"
      },
      "source": [
        "class Solution:\n",
        "    def reverse(self, start, end):\n",
        "        # Write your code here\n",
        "        newhead = ListNode(0)\n",
        "        newhead.next = start\n",
        "\n",
        "        while newhead.next != end:\n",
        "            tmp = start.next\n",
        "            start.next = tmp.next\n",
        "            tmp.next = newhead.next\n",
        "            newhead.next = tmp\n",
        "\n",
        "        return [end, start]\n",
        "\n",
        "    def reverseKGroup(self, head, k):\n",
        "        if head == None: \n",
        "            return None\n",
        "\n",
        "        nhead = ListNode(0);\n",
        "        nhead.next = head\n",
        "        start = nhead\n",
        "\n",
        "        while start.next:\n",
        "            end = start\n",
        "            for i in range(k - 1):\n",
        "                end = end.next\n",
        "                if end.next == None: \n",
        "                    return nhead.next\n",
        "            res = self.reverse(start.next, end.next)\n",
        "            start.next = res[0]\n",
        "            start = res[1]\n",
        "            \n",
        "        return nhead.next"
      ],
      "execution_count": null,
      "outputs": []
    },
    {
      "cell_type": "markdown",
      "metadata": {
        "id": "FtY2Lxc1_4wJ"
      },
      "source": [
        "**Remove Nth Node From End of List**"
      ]
    },
    {
      "cell_type": "code",
      "metadata": {
        "id": "dIEJacLc_1N1"
      },
      "source": [
        "# Definition for singly-linked list.\n",
        "# class ListNode:\n",
        "#     def __init__(self, val=0, next=None):\n",
        "#         self.val = val\n",
        "#         self.next = next\n",
        "class Solution:\n",
        "    def removeNthFromEnd(self, head: ListNode, n: int) -> ListNode:\n",
        "        dummy = ListNode(0)\n",
        "        dummy.next = head\n",
        "        fast, slow = dummy, dummy\n",
        "        \n",
        "        for _ in range(n): \n",
        "            fast = fast.next\n",
        "            \n",
        "        while fast.next != None:\n",
        "            fast, slow = fast.next, slow.next\n",
        "            \n",
        "        slow.next = slow.next.next\n",
        "\n",
        "        return dummy.next"
      ],
      "execution_count": null,
      "outputs": []
    },
    {
      "cell_type": "markdown",
      "metadata": {
        "id": "j2f2JBLimv16"
      },
      "source": [
        "**Linked List Cycle**"
      ]
    },
    {
      "cell_type": "code",
      "metadata": {
        "id": "FZRChqqf5Cha"
      },
      "source": [
        "class Solution:\n",
        "    def hasCycle(self, head: ListNode) -> bool:\n",
        "        # write your code here\n",
        "        if head is None:\t\t\t\n",
        "            return False\n",
        "\n",
        "        fast = head\t\t\n",
        "        slow = head\t\n",
        "\n",
        "        while True:\n",
        "            if fast.next is not None:\n",
        "                fast = fast.next.next\n",
        "                slow = slow.next\n",
        "                if fast is None or slow is None:\n",
        "                    return False\n",
        "                elif fast == slow:\n",
        "                    return True\n",
        "            else:\n",
        "                return False\n",
        "\n",
        "        return False"
      ],
      "execution_count": null,
      "outputs": []
    },
    {
      "cell_type": "markdown",
      "metadata": {
        "id": "8B_eWpjrn6cC"
      },
      "source": [
        "**Sort List**"
      ]
    },
    {
      "cell_type": "code",
      "metadata": {
        "id": "QYDeC0uIn0be"
      },
      "source": [
        "# Definition for singly-linked list.\n",
        "# class ListNode:\n",
        "#     def __init__(self, val=0, next=None):\n",
        "#         self.val = val\n",
        "#         self.next = next\n",
        "class Solution:\n",
        "    def sortList(self, head: ListNode) -> ListNode:   \n",
        "        if head == None:\n",
        "            return head\n",
        "        \n",
        "        if head.next == None:\n",
        "            return head\n",
        "            \n",
        "        fast = head\n",
        "        slow = head\n",
        "        \n",
        "        while fast.next != None and fast.next.next != None:\n",
        "            fast = fast.next.next\n",
        "            slow = slow.next\n",
        "        \n",
        "        mid = slow.next\n",
        "        slow.next = None\n",
        "        \n",
        "        list1 = self.sortList(head)\n",
        "        list2 = self.sortList(mid)\n",
        "        \n",
        "        sorted = self.merge(list1,list2)\n",
        "        \n",
        "        return sorted\n",
        "    \n",
        "    def merge(self, list1, list2):\n",
        "        if list1 == None:\n",
        "            return list2\n",
        "        if list2 == None:\n",
        "            return list1\n",
        "        \n",
        "        head = None\n",
        "            \n",
        "        if list1.val < list2.val:\n",
        "            head = list1\n",
        "            list1 = list1.next\n",
        "        else:\n",
        "            head = list2;\n",
        "            list2 = list2.next\n",
        "            \n",
        "        tmp = head\n",
        "        \n",
        "        while list1 != None and list2 != None:\n",
        "            if list1.val < list2.val:\n",
        "                tmp.next = list1\n",
        "                tmp = list1\n",
        "                list1 = list1.next\n",
        "            else:\n",
        "                tmp.next = list2\n",
        "                tmp = list2\n",
        "                list2 = list2.next\n",
        "            \n",
        "        if list1 != None :\n",
        "            tmp.next = list1\n",
        "                \n",
        "        if list2 != None :\n",
        "            tmp.next = list2\n",
        "            \n",
        "        return head"
      ],
      "execution_count": null,
      "outputs": []
    },
    {
      "cell_type": "markdown",
      "metadata": {
        "id": "5qBJ9K9VpGzC"
      },
      "source": [
        "**Maximum Subarray**\n"
      ]
    },
    {
      "cell_type": "code",
      "metadata": {
        "id": "Jo1YQOEspFWh"
      },
      "source": [
        "class Solution:\n",
        "    def maxSubArray(self, nums):\n",
        "        #prefix_sum记录前i个数的和，max_Sum记录全局最大值，min_Sum记录前i个数中0-k的最小值\n",
        "        min_sum, max_sum = 0, -sys.maxsize\n",
        "        prefix_sum = 0\n",
        "        \n",
        "        for num in nums:\n",
        "            prefix_sum += num\n",
        "            max_sum = max(max_sum, prefix_sum - min_sum)\n",
        "            min_sum = min(min_sum, prefix_sum)\n",
        "            \n",
        "        return max_sum"
      ],
      "execution_count": null,
      "outputs": []
    },
    {
      "cell_type": "markdown",
      "metadata": {
        "id": "Gf3TExMcpago"
      },
      "source": [
        "**Window Sum**\n"
      ]
    },
    {
      "cell_type": "code",
      "metadata": {
        "id": "01T3UiEfpUnA"
      },
      "source": [
        "class Solution:\n",
        "    def winSum(self, nums, k):\n",
        "        # Write your code here\n",
        "        n = len(nums)\n",
        "\n",
        "        if n < k or k <= 0:\n",
        "            return []\n",
        "\n",
        "        sums = [0] * (n - k + 1)\n",
        "        \n",
        "        for i in range(k):\n",
        "            sums[0] += nums[i];\n",
        "\n",
        "        for i in range(1, n - k + 1):\n",
        "            sums[i] = sums[i - 1] - nums[i - 1] + nums[i + k - 1]\n",
        "\n",
        "        return sums"
      ],
      "execution_count": null,
      "outputs": []
    },
    {
      "cell_type": "markdown",
      "metadata": {
        "id": "rSigBaEAppzb"
      },
      "source": [
        "**Subarray Sum**"
      ]
    },
    {
      "cell_type": "code",
      "metadata": {
        "id": "Une55lHnpnF8"
      },
      "source": [
        "class Solution:\n",
        "    def subarraySum(self, nums):\n",
        "        prefix_hash = {0: -1}\n",
        "        prefix_sum = 0\n",
        "        \n",
        "        for i, num in enumerate(nums):\n",
        "            prefix_sum += num\n",
        "            if prefix_sum in prefix_hash:\n",
        "                return prefix_hash[prefix_sum] + 1, i\n",
        "            prefix_hash[prefix_sum] = i\n",
        "            \n",
        "        return -1, -1"
      ],
      "execution_count": null,
      "outputs": []
    },
    {
      "cell_type": "markdown",
      "metadata": {
        "id": "r370Vx7GqAq0"
      },
      "source": [
        "**Subarray Sum Closest**"
      ]
    },
    {
      "cell_type": "code",
      "metadata": {
        "id": "tc0m8u1zp7y4"
      },
      "source": [
        "class Solution:\n",
        "    def subarraySumClosest(self, nums):\n",
        "        prefix_sum = [(0, -1)]\n",
        "\n",
        "        for i, num in enumerate(nums):\n",
        "            prefix_sum.append((prefix_sum[-1][0] + num, i))\n",
        "            \n",
        "        prefix_sum.sort()\n",
        "        closest, answer = sys.maxsize, []\n",
        "\n",
        "        for i in range(1, len(prefix_sum)):\n",
        "            if closest > prefix_sum[i][0] - prefix_sum[i - 1][0]:\n",
        "                closest = prefix_sum[i][0] - prefix_sum[i - 1][0]\n",
        "                left = min(prefix_sum[i - 1][1], prefix_sum[i][1]) + 1\n",
        "                right = max(prefix_sum[i - 1][1], prefix_sum[i][1])\n",
        "                answer = [left, right]\n",
        "        \n",
        "        return answer"
      ],
      "execution_count": null,
      "outputs": []
    },
    {
      "cell_type": "markdown",
      "metadata": {
        "id": "HIpYJTUFqRlL"
      },
      "source": [
        "**Merge Two Sorted Arrays**"
      ]
    },
    {
      "cell_type": "code",
      "metadata": {
        "id": "MVK4JSu7qPUY"
      },
      "source": [
        "class Solution:\n",
        "    def mergeSortedArray(self, A, B):\n",
        "        first, second = 0, 0\n",
        "        result = []\n",
        "        \n",
        "        while first < len(A) and second < len(B):\n",
        "            if A[first] < B[second]:\n",
        "                result.append(A[first])\n",
        "                first += 1\n",
        "            else:\n",
        "                result.append(B[second])\n",
        "                second += 1\n",
        "\n",
        "        while first < len(A):\n",
        "            result.append(A[first])\n",
        "            first += 1\n",
        "\n",
        "        while second < len(B):\n",
        "            result.append(B[second])\n",
        "            second += 1\n",
        "            \n",
        "        return result"
      ],
      "execution_count": null,
      "outputs": []
    }
  ]
}