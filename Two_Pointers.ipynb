{
  "nbformat": 4,
  "nbformat_minor": 0,
  "metadata": {
    "colab": {
      "name": "Two Pointers.ipynb",
      "provenance": []
    },
    "kernelspec": {
      "name": "python3",
      "display_name": "Python 3"
    }
  },
  "cells": [
    {
      "cell_type": "markdown",
      "metadata": {
        "id": "IouigUEyYAE6"
      },
      "source": [
        "**Two Pointers**"
      ]
    },
    {
      "cell_type": "markdown",
      "metadata": {
        "id": "2dt5UKd-YtVz"
      },
      "source": [
        "**Partition Array**"
      ]
    },
    {
      "cell_type": "code",
      "metadata": {
        "id": "UQwh3TXQYDX2"
      },
      "source": [
        "class Solution:\n",
        "    def partitionArray(self, nums, k):\n",
        "        left, right = 0, len(nums) - 1\n",
        "\n",
        "        while left <= right:\n",
        "            while left <= right and nums[left] < k:\n",
        "                left += 1\n",
        "            while left <= right and nums[right] >= k:\n",
        "                right -= 1\n",
        "            if left <= right:\n",
        "                nums[left], nums[right] = nums[right], nums[left]\n",
        "                left += 1\n",
        "                right -= 1\n",
        "                \n",
        "        return left"
      ],
      "execution_count": null,
      "outputs": []
    },
    {
      "cell_type": "markdown",
      "metadata": {
        "id": "Quzx6R-7ZMti"
      },
      "source": [
        "**Partition Array by Odd and Even**"
      ]
    },
    {
      "cell_type": "code",
      "metadata": {
        "id": "OZweLuOIZKVZ"
      },
      "source": [
        "class Solution:\n",
        "    def partitionArray(self, nums):\n",
        "        left, right = 0, len(nums) - 1\n",
        "\n",
        "        while left <= right:\n",
        "            while left <= right and nums[left] % 2 == 1:\n",
        "                left += 1\n",
        "            while left <= right and nums[right] % 2 == 0:\n",
        "                right -= 1\n",
        "            if left <= right:\n",
        "                nums[left], nums[right] = nums[right], nums[left]\n",
        "                left += 1\n",
        "                right -= 1"
      ],
      "execution_count": null,
      "outputs": []
    },
    {
      "cell_type": "markdown",
      "metadata": {
        "id": "lujojFZNZiYN"
      },
      "source": [
        "**Sort Letters by Case**"
      ]
    },
    {
      "cell_type": "code",
      "metadata": {
        "id": "KuPWZBwiZhjk"
      },
      "source": [
        "class Solution:\n",
        "    def sortLetters(self, chars):\n",
        "        if not chars:\n",
        "            return None\n",
        "            \n",
        "        left, right = 0, len(chars) - 1\n",
        "\n",
        "        while left <= right:\n",
        "            while left <= right and chars[left].islower():\n",
        "                left += 1\n",
        "            while left <= right and chars[right].isupper():\n",
        "                right -= 1       \n",
        "            if left <= right:\n",
        "                chars[left], chars[right] = chars[right], chars[left]\n",
        "                left, right = left + 1, right - 1\n",
        "        \n",
        "        return chars"
      ],
      "execution_count": null,
      "outputs": []
    },
    {
      "cell_type": "markdown",
      "metadata": {
        "id": "TUVRmX_tZt1A"
      },
      "source": [
        "**Sort Colors**"
      ]
    },
    {
      "cell_type": "code",
      "metadata": {
        "id": "JIOnHIG0Zrz9"
      },
      "source": [
        "class Solution:\n",
        "    def sortColors(self, A):\n",
        "        left, index, right = 0, 0, len(A) - 1\n",
        "        # be careful, index < right is not correct\n",
        "        \n",
        "        while index <= right:\n",
        "            if A[index] == 0:\n",
        "                A[left], A[index] = A[index], A[left]\n",
        "                left += 1\n",
        "                index += 1 \n",
        "            elif A[index] == 2:\n",
        "                A[right], A[index] = A[index], A[right]\n",
        "                right -= 1\n",
        "            else:  \n",
        "                index += 1"
      ],
      "execution_count": null,
      "outputs": []
    },
    {
      "cell_type": "markdown",
      "metadata": {
        "id": "Lr5uYZeQaAL5"
      },
      "source": [
        "**Sort Colors II**"
      ]
    },
    {
      "cell_type": "code",
      "metadata": {
        "id": "R21JG09tZwJx"
      },
      "source": [
        "class Solution:\n",
        "    def sortColors2(self, colors, k):\n",
        "        self.sort(colors, 1, k, 0, len(colors) - 1)\n",
        "        self.sort(colors, color_from, color, index_from, right)\n",
        "        self.sort(colors, color + 1, color_to, left, index_to)\n",
        "        \n",
        "    def sort(self, colors, color_from, color_to, index_from, index_to):\n",
        "        if color_from == color_to or index_from == index_to:\n",
        "            return\n",
        "            \n",
        "        color = (color_from + color_to) // 2\n",
        "        left, right = index_from, index_to\n",
        "\n",
        "        while left <= right:\n",
        "            while left <= right and colors[left] <= color:\n",
        "                left += 1\n",
        "            while left <= right and colors[right] > color:\n",
        "                right -= 1\n",
        "            if left <= right:\n",
        "                colors[left], colors[right] = colors[right], colors[left]\n",
        "                left += 1\n",
        "                right -= 1\n",
        "      "
      ],
      "execution_count": null,
      "outputs": []
    },
    {
      "cell_type": "markdown",
      "metadata": {
        "id": "uRnGagSMaiPl"
      },
      "source": [
        "**Two Sum Hashmap**"
      ]
    },
    {
      "cell_type": "code",
      "metadata": {
        "id": "PkTqfhpMaPDH"
      },
      "source": [
        "class Solution(object):\n",
        "    def twoSum(self, nums, target):\n",
        "        hash = {}\n",
        "  \n",
        "        for i in range(len(nums)):\n",
        "            if target - nums[i] in hash:\n",
        "                return [hash[target - nums[i]], i]\n",
        "            hash[nums[i]] = i\n",
        "        \n",
        "        return [-1, -1]"
      ],
      "execution_count": null,
      "outputs": []
    },
    {
      "cell_type": "markdown",
      "metadata": {
        "id": "WOYjENyjal8X"
      },
      "source": [
        "**Two Sum Sorted**"
      ]
    },
    {
      "cell_type": "code",
      "metadata": {
        "id": "sDAPvK10aYAR"
      },
      "source": [
        "class Solution:\n",
        "    def twoSum(self, nums, target):\n",
        "        left, right = 0, len(nums)-1\n",
        "\n",
        "        while left < right:\n",
        "            value = nums[left] + nums[right]\n",
        "            if value == target:\n",
        "                return [left + 1, right + 1]\n",
        "            elif value < target:\n",
        "                left += 1\n",
        "            else:\n",
        "                right -= 1\n",
        "        return []"
      ],
      "execution_count": null,
      "outputs": []
    },
    {
      "cell_type": "markdown",
      "metadata": {
        "id": "mAQ4EB6japEE"
      },
      "source": [
        "**Two Sum Unique Pairs**"
      ]
    },
    {
      "cell_type": "code",
      "metadata": {
        "id": "wMbA7GE1af25"
      },
      "source": [
        "class Solution:\n",
        "    def twoSum6(self, nums, target):\n",
        "        if not nums or len(nums) < 2:\n",
        "            return 0\n",
        "\n",
        "        nums.sort()\n",
        "        \n",
        "        count = 0\n",
        "        left, right = 0, len(nums) - 1\n",
        "        \n",
        "        while left < right:\n",
        "            if nums[left] + nums[right] == target:\n",
        "                count, left, right = count + 1, left + 1, right - 1\n",
        "                while left < right and nums[left] == nums[left - 1]:\n",
        "                    left += 1\n",
        "                while left < right and nums[right] == nums[right + 1]:\n",
        "                    right -= 1\n",
        "            elif nums[left] + nums[right] > target:\n",
        "                right -= 1\n",
        "            else:\n",
        "                left += 1\n",
        "        \n",
        "        return count"
      ],
      "execution_count": null,
      "outputs": []
    },
    {
      "cell_type": "markdown",
      "metadata": {
        "id": "OI57fi3ua217"
      },
      "source": [
        "**3Sum**"
      ]
    },
    {
      "cell_type": "code",
      "metadata": {
        "id": "aejOb1t1a0vU"
      },
      "source": [
        "class Solution:\n",
        "    def threeSum(self, nums):\n",
        "        nums = sorted(nums)\n",
        "        \n",
        "        results = []\n",
        "        for i in range(len(nums)):\n",
        "            if i > 0 and nums[i] == nums[i - 1]:\n",
        "                continue\n",
        "            self.find_two_sum(nums, i + 1, len(nums) - 1, -nums[i], results)\n",
        "            \n",
        "        return results\n",
        "\n",
        "    def find_two_sum(self, nums, left, right, target, results):\n",
        "        last_pair = None\n",
        "        \n",
        "        while left < right:\n",
        "            if nums[left] + nums[right] == target:\n",
        "                if (nums[left], nums[right]) != last_pair:\n",
        "                    results.append([-target, nums[left], nums[right]])\n",
        "                last_pair = (nums[left], nums[right])\n",
        "                right -= 1\n",
        "                left += 1\n",
        "            elif nums[left] + nums[right] > target:\n",
        "                right -= 1\n",
        "            else:\n",
        "                left += 1"
      ],
      "execution_count": null,
      "outputs": []
    },
    {
      "cell_type": "markdown",
      "metadata": {
        "id": "SnOdGIi3bcKB"
      },
      "source": [
        " **Two Sum Closest**"
      ]
    },
    {
      "cell_type": "code",
      "metadata": {
        "id": "aW0dpUJDbZ5A"
      },
      "source": [
        "class Solution:\n",
        "    def twoSumClosest(self, nums, target):\n",
        "        nums.sort()\n",
        "        left, right = 0, len(nums)  - 1\n",
        "\n",
        "        diff = 0x7fffffff\n",
        "        \n",
        "        while left < right:\n",
        "            if nums[left] + nums[right] < target:\n",
        "                diff = min(diff, target - nums[left] - nums[right])\n",
        "                left += 1\n",
        "            else:\n",
        "                diff = min(diff, nums[left] + nums[right] - target)\n",
        "                right -= 1\n",
        "\n",
        "        return diff"
      ],
      "execution_count": null,
      "outputs": []
    },
    {
      "cell_type": "markdown",
      "metadata": {
        "id": "SfUIG5klbo0c"
      },
      "source": [
        "**3Sum Closest**"
      ]
    },
    {
      "cell_type": "code",
      "metadata": {
        "id": "5Ob3CksCbkzG"
      },
      "source": [
        "class Solution:\n",
        "    def threeSumClosest(self, numbers, target):\n",
        "        numbers.sort()\n",
        "        ans = None\n",
        "\n",
        "        for i in range(len(numbers)):\n",
        "            left, right = i + 1, len(numbers) - 1\n",
        "            while left < right:\n",
        "                sum = numbers[left] + numbers[right] + numbers[i]\n",
        "                if ans is None or abs(sum - target) < abs(ans - target):\n",
        "                    ans = sum\n",
        "                    \n",
        "                if sum <= target:\n",
        "                    left += 1\n",
        "                else:\n",
        "                    right -= 1\n",
        "                    \n",
        "        return ans"
      ],
      "execution_count": null,
      "outputs": []
    }
  ]
}